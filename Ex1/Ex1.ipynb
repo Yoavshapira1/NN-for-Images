{
  "nbformat": 4,
  "nbformat_minor": 0,
  "metadata": {
    "colab": {
      "provenance": []
    },
    "kernelspec": {
      "name": "python3",
      "display_name": "Python 3"
    },
    "language_info": {
      "name": "python"
    },
    "accelerator": "GPU",
    "gpuClass": "standard",
    "widgets": {
      "application/vnd.jupyter.widget-state+json": {
        "ccf3863731504307b16acc9dee0bb185": {
          "model_module": "@jupyter-widgets/controls",
          "model_name": "HBoxModel",
          "model_module_version": "1.5.0",
          "state": {
            "_dom_classes": [],
            "_model_module": "@jupyter-widgets/controls",
            "_model_module_version": "1.5.0",
            "_model_name": "HBoxModel",
            "_view_count": null,
            "_view_module": "@jupyter-widgets/controls",
            "_view_module_version": "1.5.0",
            "_view_name": "HBoxView",
            "box_style": "",
            "children": [
              "IPY_MODEL_d2602eb6924147c48163a3726c271927",
              "IPY_MODEL_f0bc6b54666a4f04b2b9a41cf8217919",
              "IPY_MODEL_87d8587caf3e4328aff2e394eec543d6"
            ],
            "layout": "IPY_MODEL_eead0db7d2dd411d9ea5b75bafa04d48"
          }
        },
        "d2602eb6924147c48163a3726c271927": {
          "model_module": "@jupyter-widgets/controls",
          "model_name": "HTMLModel",
          "model_module_version": "1.5.0",
          "state": {
            "_dom_classes": [],
            "_model_module": "@jupyter-widgets/controls",
            "_model_module_version": "1.5.0",
            "_model_name": "HTMLModel",
            "_view_count": null,
            "_view_module": "@jupyter-widgets/controls",
            "_view_module_version": "1.5.0",
            "_view_name": "HTMLView",
            "description": "",
            "description_tooltip": null,
            "layout": "IPY_MODEL_56a7d0d93bb14766968439efb1dce633",
            "placeholder": "​",
            "style": "IPY_MODEL_8c0cca5c799c436eb25d55eb9c9b304a",
            "value": "100%"
          }
        },
        "f0bc6b54666a4f04b2b9a41cf8217919": {
          "model_module": "@jupyter-widgets/controls",
          "model_name": "FloatProgressModel",
          "model_module_version": "1.5.0",
          "state": {
            "_dom_classes": [],
            "_model_module": "@jupyter-widgets/controls",
            "_model_module_version": "1.5.0",
            "_model_name": "FloatProgressModel",
            "_view_count": null,
            "_view_module": "@jupyter-widgets/controls",
            "_view_module_version": "1.5.0",
            "_view_name": "ProgressView",
            "bar_style": "success",
            "description": "",
            "description_tooltip": null,
            "layout": "IPY_MODEL_2e13af78c3cd4b46ad8823a5ab48b3cf",
            "max": 170498071,
            "min": 0,
            "orientation": "horizontal",
            "style": "IPY_MODEL_6c82de70a7f14226a961e12133c1314e",
            "value": 170498071
          }
        },
        "87d8587caf3e4328aff2e394eec543d6": {
          "model_module": "@jupyter-widgets/controls",
          "model_name": "HTMLModel",
          "model_module_version": "1.5.0",
          "state": {
            "_dom_classes": [],
            "_model_module": "@jupyter-widgets/controls",
            "_model_module_version": "1.5.0",
            "_model_name": "HTMLModel",
            "_view_count": null,
            "_view_module": "@jupyter-widgets/controls",
            "_view_module_version": "1.5.0",
            "_view_name": "HTMLView",
            "description": "",
            "description_tooltip": null,
            "layout": "IPY_MODEL_fddd25c94b1a4acea2788c7b3e70614d",
            "placeholder": "​",
            "style": "IPY_MODEL_acfe008c494445db8ac88c35ec8c320c",
            "value": " 170498071/170498071 [00:13&lt;00:00, 14214626.38it/s]"
          }
        },
        "eead0db7d2dd411d9ea5b75bafa04d48": {
          "model_module": "@jupyter-widgets/base",
          "model_name": "LayoutModel",
          "model_module_version": "1.2.0",
          "state": {
            "_model_module": "@jupyter-widgets/base",
            "_model_module_version": "1.2.0",
            "_model_name": "LayoutModel",
            "_view_count": null,
            "_view_module": "@jupyter-widgets/base",
            "_view_module_version": "1.2.0",
            "_view_name": "LayoutView",
            "align_content": null,
            "align_items": null,
            "align_self": null,
            "border": null,
            "bottom": null,
            "display": null,
            "flex": null,
            "flex_flow": null,
            "grid_area": null,
            "grid_auto_columns": null,
            "grid_auto_flow": null,
            "grid_auto_rows": null,
            "grid_column": null,
            "grid_gap": null,
            "grid_row": null,
            "grid_template_areas": null,
            "grid_template_columns": null,
            "grid_template_rows": null,
            "height": null,
            "justify_content": null,
            "justify_items": null,
            "left": null,
            "margin": null,
            "max_height": null,
            "max_width": null,
            "min_height": null,
            "min_width": null,
            "object_fit": null,
            "object_position": null,
            "order": null,
            "overflow": null,
            "overflow_x": null,
            "overflow_y": null,
            "padding": null,
            "right": null,
            "top": null,
            "visibility": null,
            "width": null
          }
        },
        "56a7d0d93bb14766968439efb1dce633": {
          "model_module": "@jupyter-widgets/base",
          "model_name": "LayoutModel",
          "model_module_version": "1.2.0",
          "state": {
            "_model_module": "@jupyter-widgets/base",
            "_model_module_version": "1.2.0",
            "_model_name": "LayoutModel",
            "_view_count": null,
            "_view_module": "@jupyter-widgets/base",
            "_view_module_version": "1.2.0",
            "_view_name": "LayoutView",
            "align_content": null,
            "align_items": null,
            "align_self": null,
            "border": null,
            "bottom": null,
            "display": null,
            "flex": null,
            "flex_flow": null,
            "grid_area": null,
            "grid_auto_columns": null,
            "grid_auto_flow": null,
            "grid_auto_rows": null,
            "grid_column": null,
            "grid_gap": null,
            "grid_row": null,
            "grid_template_areas": null,
            "grid_template_columns": null,
            "grid_template_rows": null,
            "height": null,
            "justify_content": null,
            "justify_items": null,
            "left": null,
            "margin": null,
            "max_height": null,
            "max_width": null,
            "min_height": null,
            "min_width": null,
            "object_fit": null,
            "object_position": null,
            "order": null,
            "overflow": null,
            "overflow_x": null,
            "overflow_y": null,
            "padding": null,
            "right": null,
            "top": null,
            "visibility": null,
            "width": null
          }
        },
        "8c0cca5c799c436eb25d55eb9c9b304a": {
          "model_module": "@jupyter-widgets/controls",
          "model_name": "DescriptionStyleModel",
          "model_module_version": "1.5.0",
          "state": {
            "_model_module": "@jupyter-widgets/controls",
            "_model_module_version": "1.5.0",
            "_model_name": "DescriptionStyleModel",
            "_view_count": null,
            "_view_module": "@jupyter-widgets/base",
            "_view_module_version": "1.2.0",
            "_view_name": "StyleView",
            "description_width": ""
          }
        },
        "2e13af78c3cd4b46ad8823a5ab48b3cf": {
          "model_module": "@jupyter-widgets/base",
          "model_name": "LayoutModel",
          "model_module_version": "1.2.0",
          "state": {
            "_model_module": "@jupyter-widgets/base",
            "_model_module_version": "1.2.0",
            "_model_name": "LayoutModel",
            "_view_count": null,
            "_view_module": "@jupyter-widgets/base",
            "_view_module_version": "1.2.0",
            "_view_name": "LayoutView",
            "align_content": null,
            "align_items": null,
            "align_self": null,
            "border": null,
            "bottom": null,
            "display": null,
            "flex": null,
            "flex_flow": null,
            "grid_area": null,
            "grid_auto_columns": null,
            "grid_auto_flow": null,
            "grid_auto_rows": null,
            "grid_column": null,
            "grid_gap": null,
            "grid_row": null,
            "grid_template_areas": null,
            "grid_template_columns": null,
            "grid_template_rows": null,
            "height": null,
            "justify_content": null,
            "justify_items": null,
            "left": null,
            "margin": null,
            "max_height": null,
            "max_width": null,
            "min_height": null,
            "min_width": null,
            "object_fit": null,
            "object_position": null,
            "order": null,
            "overflow": null,
            "overflow_x": null,
            "overflow_y": null,
            "padding": null,
            "right": null,
            "top": null,
            "visibility": null,
            "width": null
          }
        },
        "6c82de70a7f14226a961e12133c1314e": {
          "model_module": "@jupyter-widgets/controls",
          "model_name": "ProgressStyleModel",
          "model_module_version": "1.5.0",
          "state": {
            "_model_module": "@jupyter-widgets/controls",
            "_model_module_version": "1.5.0",
            "_model_name": "ProgressStyleModel",
            "_view_count": null,
            "_view_module": "@jupyter-widgets/base",
            "_view_module_version": "1.2.0",
            "_view_name": "StyleView",
            "bar_color": null,
            "description_width": ""
          }
        },
        "fddd25c94b1a4acea2788c7b3e70614d": {
          "model_module": "@jupyter-widgets/base",
          "model_name": "LayoutModel",
          "model_module_version": "1.2.0",
          "state": {
            "_model_module": "@jupyter-widgets/base",
            "_model_module_version": "1.2.0",
            "_model_name": "LayoutModel",
            "_view_count": null,
            "_view_module": "@jupyter-widgets/base",
            "_view_module_version": "1.2.0",
            "_view_name": "LayoutView",
            "align_content": null,
            "align_items": null,
            "align_self": null,
            "border": null,
            "bottom": null,
            "display": null,
            "flex": null,
            "flex_flow": null,
            "grid_area": null,
            "grid_auto_columns": null,
            "grid_auto_flow": null,
            "grid_auto_rows": null,
            "grid_column": null,
            "grid_gap": null,
            "grid_row": null,
            "grid_template_areas": null,
            "grid_template_columns": null,
            "grid_template_rows": null,
            "height": null,
            "justify_content": null,
            "justify_items": null,
            "left": null,
            "margin": null,
            "max_height": null,
            "max_width": null,
            "min_height": null,
            "min_width": null,
            "object_fit": null,
            "object_position": null,
            "order": null,
            "overflow": null,
            "overflow_x": null,
            "overflow_y": null,
            "padding": null,
            "right": null,
            "top": null,
            "visibility": null,
            "width": null
          }
        },
        "acfe008c494445db8ac88c35ec8c320c": {
          "model_module": "@jupyter-widgets/controls",
          "model_name": "DescriptionStyleModel",
          "model_module_version": "1.5.0",
          "state": {
            "_model_module": "@jupyter-widgets/controls",
            "_model_module_version": "1.5.0",
            "_model_name": "DescriptionStyleModel",
            "_view_count": null,
            "_view_module": "@jupyter-widgets/base",
            "_view_module_version": "1.2.0",
            "_view_name": "StyleView",
            "description_width": ""
          }
        },
        "a1047f160ec24672a8cc9cb9ad382122": {
          "model_module": "@jupyter-widgets/controls",
          "model_name": "VBoxModel",
          "model_module_version": "1.5.0",
          "state": {
            "_dom_classes": [],
            "_model_module": "@jupyter-widgets/controls",
            "_model_module_version": "1.5.0",
            "_model_name": "VBoxModel",
            "_view_count": null,
            "_view_module": "@jupyter-widgets/controls",
            "_view_module_version": "1.5.0",
            "_view_name": "VBoxView",
            "box_style": "",
            "children": [
              "IPY_MODEL_2a30b2ed193e4899a98d1c774c94ac62",
              "IPY_MODEL_5b4259c049bc4e4cb51a9dfae6b3a4b4"
            ],
            "layout": "IPY_MODEL_5fade95db66143b28e35323ff4447d8f"
          }
        },
        "2a30b2ed193e4899a98d1c774c94ac62": {
          "model_module": "@jupyter-widgets/controls",
          "model_name": "LabelModel",
          "model_module_version": "1.5.0",
          "state": {
            "_dom_classes": [],
            "_model_module": "@jupyter-widgets/controls",
            "_model_module_version": "1.5.0",
            "_model_name": "LabelModel",
            "_view_count": null,
            "_view_module": "@jupyter-widgets/controls",
            "_view_module_version": "1.5.0",
            "_view_name": "LabelView",
            "description": "",
            "description_tooltip": null,
            "layout": "IPY_MODEL_4627d13bd72549f9ad572ba4ec1222fd",
            "placeholder": "​",
            "style": "IPY_MODEL_32d03d1929994ba7b602085d382cd946",
            "value": "0.009 MB of 0.009 MB uploaded (0.000 MB deduped)\r"
          }
        },
        "5b4259c049bc4e4cb51a9dfae6b3a4b4": {
          "model_module": "@jupyter-widgets/controls",
          "model_name": "FloatProgressModel",
          "model_module_version": "1.5.0",
          "state": {
            "_dom_classes": [],
            "_model_module": "@jupyter-widgets/controls",
            "_model_module_version": "1.5.0",
            "_model_name": "FloatProgressModel",
            "_view_count": null,
            "_view_module": "@jupyter-widgets/controls",
            "_view_module_version": "1.5.0",
            "_view_name": "ProgressView",
            "bar_style": "",
            "description": "",
            "description_tooltip": null,
            "layout": "IPY_MODEL_f9cf9c37edf74b148602b67be1862f17",
            "max": 1,
            "min": 0,
            "orientation": "horizontal",
            "style": "IPY_MODEL_e1715c9e77a8463c90feefaef5d30111",
            "value": 1
          }
        },
        "5fade95db66143b28e35323ff4447d8f": {
          "model_module": "@jupyter-widgets/base",
          "model_name": "LayoutModel",
          "model_module_version": "1.2.0",
          "state": {
            "_model_module": "@jupyter-widgets/base",
            "_model_module_version": "1.2.0",
            "_model_name": "LayoutModel",
            "_view_count": null,
            "_view_module": "@jupyter-widgets/base",
            "_view_module_version": "1.2.0",
            "_view_name": "LayoutView",
            "align_content": null,
            "align_items": null,
            "align_self": null,
            "border": null,
            "bottom": null,
            "display": null,
            "flex": null,
            "flex_flow": null,
            "grid_area": null,
            "grid_auto_columns": null,
            "grid_auto_flow": null,
            "grid_auto_rows": null,
            "grid_column": null,
            "grid_gap": null,
            "grid_row": null,
            "grid_template_areas": null,
            "grid_template_columns": null,
            "grid_template_rows": null,
            "height": null,
            "justify_content": null,
            "justify_items": null,
            "left": null,
            "margin": null,
            "max_height": null,
            "max_width": null,
            "min_height": null,
            "min_width": null,
            "object_fit": null,
            "object_position": null,
            "order": null,
            "overflow": null,
            "overflow_x": null,
            "overflow_y": null,
            "padding": null,
            "right": null,
            "top": null,
            "visibility": null,
            "width": null
          }
        },
        "4627d13bd72549f9ad572ba4ec1222fd": {
          "model_module": "@jupyter-widgets/base",
          "model_name": "LayoutModel",
          "model_module_version": "1.2.0",
          "state": {
            "_model_module": "@jupyter-widgets/base",
            "_model_module_version": "1.2.0",
            "_model_name": "LayoutModel",
            "_view_count": null,
            "_view_module": "@jupyter-widgets/base",
            "_view_module_version": "1.2.0",
            "_view_name": "LayoutView",
            "align_content": null,
            "align_items": null,
            "align_self": null,
            "border": null,
            "bottom": null,
            "display": null,
            "flex": null,
            "flex_flow": null,
            "grid_area": null,
            "grid_auto_columns": null,
            "grid_auto_flow": null,
            "grid_auto_rows": null,
            "grid_column": null,
            "grid_gap": null,
            "grid_row": null,
            "grid_template_areas": null,
            "grid_template_columns": null,
            "grid_template_rows": null,
            "height": null,
            "justify_content": null,
            "justify_items": null,
            "left": null,
            "margin": null,
            "max_height": null,
            "max_width": null,
            "min_height": null,
            "min_width": null,
            "object_fit": null,
            "object_position": null,
            "order": null,
            "overflow": null,
            "overflow_x": null,
            "overflow_y": null,
            "padding": null,
            "right": null,
            "top": null,
            "visibility": null,
            "width": null
          }
        },
        "32d03d1929994ba7b602085d382cd946": {
          "model_module": "@jupyter-widgets/controls",
          "model_name": "DescriptionStyleModel",
          "model_module_version": "1.5.0",
          "state": {
            "_model_module": "@jupyter-widgets/controls",
            "_model_module_version": "1.5.0",
            "_model_name": "DescriptionStyleModel",
            "_view_count": null,
            "_view_module": "@jupyter-widgets/base",
            "_view_module_version": "1.2.0",
            "_view_name": "StyleView",
            "description_width": ""
          }
        },
        "f9cf9c37edf74b148602b67be1862f17": {
          "model_module": "@jupyter-widgets/base",
          "model_name": "LayoutModel",
          "model_module_version": "1.2.0",
          "state": {
            "_model_module": "@jupyter-widgets/base",
            "_model_module_version": "1.2.0",
            "_model_name": "LayoutModel",
            "_view_count": null,
            "_view_module": "@jupyter-widgets/base",
            "_view_module_version": "1.2.0",
            "_view_name": "LayoutView",
            "align_content": null,
            "align_items": null,
            "align_self": null,
            "border": null,
            "bottom": null,
            "display": null,
            "flex": null,
            "flex_flow": null,
            "grid_area": null,
            "grid_auto_columns": null,
            "grid_auto_flow": null,
            "grid_auto_rows": null,
            "grid_column": null,
            "grid_gap": null,
            "grid_row": null,
            "grid_template_areas": null,
            "grid_template_columns": null,
            "grid_template_rows": null,
            "height": null,
            "justify_content": null,
            "justify_items": null,
            "left": null,
            "margin": null,
            "max_height": null,
            "max_width": null,
            "min_height": null,
            "min_width": null,
            "object_fit": null,
            "object_position": null,
            "order": null,
            "overflow": null,
            "overflow_x": null,
            "overflow_y": null,
            "padding": null,
            "right": null,
            "top": null,
            "visibility": null,
            "width": null
          }
        },
        "e1715c9e77a8463c90feefaef5d30111": {
          "model_module": "@jupyter-widgets/controls",
          "model_name": "ProgressStyleModel",
          "model_module_version": "1.5.0",
          "state": {
            "_model_module": "@jupyter-widgets/controls",
            "_model_module_version": "1.5.0",
            "_model_name": "ProgressStyleModel",
            "_view_count": null,
            "_view_module": "@jupyter-widgets/base",
            "_view_module_version": "1.2.0",
            "_view_name": "StyleView",
            "bar_color": null,
            "description_width": ""
          }
        },
        "c2d3c314d8024f5ab728d5ec1a87f56c": {
          "model_module": "@jupyter-widgets/controls",
          "model_name": "VBoxModel",
          "model_module_version": "1.5.0",
          "state": {
            "_dom_classes": [],
            "_model_module": "@jupyter-widgets/controls",
            "_model_module_version": "1.5.0",
            "_model_name": "VBoxModel",
            "_view_count": null,
            "_view_module": "@jupyter-widgets/controls",
            "_view_module_version": "1.5.0",
            "_view_name": "VBoxView",
            "box_style": "",
            "children": [
              "IPY_MODEL_9562831274404931ad8211ef698e1531",
              "IPY_MODEL_7f5dd95315cd4b099a450a814960adcc"
            ],
            "layout": "IPY_MODEL_99e26b2dc28b421d9c4f4065b37cf14a"
          }
        },
        "9562831274404931ad8211ef698e1531": {
          "model_module": "@jupyter-widgets/controls",
          "model_name": "LabelModel",
          "model_module_version": "1.5.0",
          "state": {
            "_dom_classes": [],
            "_model_module": "@jupyter-widgets/controls",
            "_model_module_version": "1.5.0",
            "_model_name": "LabelModel",
            "_view_count": null,
            "_view_module": "@jupyter-widgets/controls",
            "_view_module_version": "1.5.0",
            "_view_name": "LabelView",
            "description": "",
            "description_tooltip": null,
            "layout": "IPY_MODEL_e817321e315144969e579c09ba61419f",
            "placeholder": "​",
            "style": "IPY_MODEL_b0c14a8ed0f24c1fb5bf3a26094f6096",
            "value": "0.012 MB of 0.012 MB uploaded (0.000 MB deduped)\r"
          }
        },
        "7f5dd95315cd4b099a450a814960adcc": {
          "model_module": "@jupyter-widgets/controls",
          "model_name": "FloatProgressModel",
          "model_module_version": "1.5.0",
          "state": {
            "_dom_classes": [],
            "_model_module": "@jupyter-widgets/controls",
            "_model_module_version": "1.5.0",
            "_model_name": "FloatProgressModel",
            "_view_count": null,
            "_view_module": "@jupyter-widgets/controls",
            "_view_module_version": "1.5.0",
            "_view_name": "ProgressView",
            "bar_style": "",
            "description": "",
            "description_tooltip": null,
            "layout": "IPY_MODEL_031d561dc6fc4fdf8044083f991124fb",
            "max": 1,
            "min": 0,
            "orientation": "horizontal",
            "style": "IPY_MODEL_b25122849c634e15a85ff0f6ef607266",
            "value": 1
          }
        },
        "99e26b2dc28b421d9c4f4065b37cf14a": {
          "model_module": "@jupyter-widgets/base",
          "model_name": "LayoutModel",
          "model_module_version": "1.2.0",
          "state": {
            "_model_module": "@jupyter-widgets/base",
            "_model_module_version": "1.2.0",
            "_model_name": "LayoutModel",
            "_view_count": null,
            "_view_module": "@jupyter-widgets/base",
            "_view_module_version": "1.2.0",
            "_view_name": "LayoutView",
            "align_content": null,
            "align_items": null,
            "align_self": null,
            "border": null,
            "bottom": null,
            "display": null,
            "flex": null,
            "flex_flow": null,
            "grid_area": null,
            "grid_auto_columns": null,
            "grid_auto_flow": null,
            "grid_auto_rows": null,
            "grid_column": null,
            "grid_gap": null,
            "grid_row": null,
            "grid_template_areas": null,
            "grid_template_columns": null,
            "grid_template_rows": null,
            "height": null,
            "justify_content": null,
            "justify_items": null,
            "left": null,
            "margin": null,
            "max_height": null,
            "max_width": null,
            "min_height": null,
            "min_width": null,
            "object_fit": null,
            "object_position": null,
            "order": null,
            "overflow": null,
            "overflow_x": null,
            "overflow_y": null,
            "padding": null,
            "right": null,
            "top": null,
            "visibility": null,
            "width": null
          }
        },
        "e817321e315144969e579c09ba61419f": {
          "model_module": "@jupyter-widgets/base",
          "model_name": "LayoutModel",
          "model_module_version": "1.2.0",
          "state": {
            "_model_module": "@jupyter-widgets/base",
            "_model_module_version": "1.2.0",
            "_model_name": "LayoutModel",
            "_view_count": null,
            "_view_module": "@jupyter-widgets/base",
            "_view_module_version": "1.2.0",
            "_view_name": "LayoutView",
            "align_content": null,
            "align_items": null,
            "align_self": null,
            "border": null,
            "bottom": null,
            "display": null,
            "flex": null,
            "flex_flow": null,
            "grid_area": null,
            "grid_auto_columns": null,
            "grid_auto_flow": null,
            "grid_auto_rows": null,
            "grid_column": null,
            "grid_gap": null,
            "grid_row": null,
            "grid_template_areas": null,
            "grid_template_columns": null,
            "grid_template_rows": null,
            "height": null,
            "justify_content": null,
            "justify_items": null,
            "left": null,
            "margin": null,
            "max_height": null,
            "max_width": null,
            "min_height": null,
            "min_width": null,
            "object_fit": null,
            "object_position": null,
            "order": null,
            "overflow": null,
            "overflow_x": null,
            "overflow_y": null,
            "padding": null,
            "right": null,
            "top": null,
            "visibility": null,
            "width": null
          }
        },
        "b0c14a8ed0f24c1fb5bf3a26094f6096": {
          "model_module": "@jupyter-widgets/controls",
          "model_name": "DescriptionStyleModel",
          "model_module_version": "1.5.0",
          "state": {
            "_model_module": "@jupyter-widgets/controls",
            "_model_module_version": "1.5.0",
            "_model_name": "DescriptionStyleModel",
            "_view_count": null,
            "_view_module": "@jupyter-widgets/base",
            "_view_module_version": "1.2.0",
            "_view_name": "StyleView",
            "description_width": ""
          }
        },
        "031d561dc6fc4fdf8044083f991124fb": {
          "model_module": "@jupyter-widgets/base",
          "model_name": "LayoutModel",
          "model_module_version": "1.2.0",
          "state": {
            "_model_module": "@jupyter-widgets/base",
            "_model_module_version": "1.2.0",
            "_model_name": "LayoutModel",
            "_view_count": null,
            "_view_module": "@jupyter-widgets/base",
            "_view_module_version": "1.2.0",
            "_view_name": "LayoutView",
            "align_content": null,
            "align_items": null,
            "align_self": null,
            "border": null,
            "bottom": null,
            "display": null,
            "flex": null,
            "flex_flow": null,
            "grid_area": null,
            "grid_auto_columns": null,
            "grid_auto_flow": null,
            "grid_auto_rows": null,
            "grid_column": null,
            "grid_gap": null,
            "grid_row": null,
            "grid_template_areas": null,
            "grid_template_columns": null,
            "grid_template_rows": null,
            "height": null,
            "justify_content": null,
            "justify_items": null,
            "left": null,
            "margin": null,
            "max_height": null,
            "max_width": null,
            "min_height": null,
            "min_width": null,
            "object_fit": null,
            "object_position": null,
            "order": null,
            "overflow": null,
            "overflow_x": null,
            "overflow_y": null,
            "padding": null,
            "right": null,
            "top": null,
            "visibility": null,
            "width": null
          }
        },
        "b25122849c634e15a85ff0f6ef607266": {
          "model_module": "@jupyter-widgets/controls",
          "model_name": "ProgressStyleModel",
          "model_module_version": "1.5.0",
          "state": {
            "_model_module": "@jupyter-widgets/controls",
            "_model_module_version": "1.5.0",
            "_model_name": "ProgressStyleModel",
            "_view_count": null,
            "_view_module": "@jupyter-widgets/base",
            "_view_module_version": "1.2.0",
            "_view_name": "StyleView",
            "bar_color": null,
            "description_width": ""
          }
        },
        "cc5f42fcd732428aa4ceb2eb51a5effb": {
          "model_module": "@jupyter-widgets/controls",
          "model_name": "VBoxModel",
          "model_module_version": "1.5.0",
          "state": {
            "_dom_classes": [],
            "_model_module": "@jupyter-widgets/controls",
            "_model_module_version": "1.5.0",
            "_model_name": "VBoxModel",
            "_view_count": null,
            "_view_module": "@jupyter-widgets/controls",
            "_view_module_version": "1.5.0",
            "_view_name": "VBoxView",
            "box_style": "",
            "children": [
              "IPY_MODEL_443ab3a3b5c443dd9d32e9a7accf8f33",
              "IPY_MODEL_62dd7251e6744568ad2fee0932584708"
            ],
            "layout": "IPY_MODEL_542b54619e8b455e84028082c392e870"
          }
        },
        "443ab3a3b5c443dd9d32e9a7accf8f33": {
          "model_module": "@jupyter-widgets/controls",
          "model_name": "LabelModel",
          "model_module_version": "1.5.0",
          "state": {
            "_dom_classes": [],
            "_model_module": "@jupyter-widgets/controls",
            "_model_module_version": "1.5.0",
            "_model_name": "LabelModel",
            "_view_count": null,
            "_view_module": "@jupyter-widgets/controls",
            "_view_module_version": "1.5.0",
            "_view_name": "LabelView",
            "description": "",
            "description_tooltip": null,
            "layout": "IPY_MODEL_bc051ef1db0d4abd9c132407cbd7c000",
            "placeholder": "​",
            "style": "IPY_MODEL_39f4659b80f34d8e8ea9c95ff38e7caa",
            "value": "0.012 MB of 0.012 MB uploaded (0.000 MB deduped)\r"
          }
        },
        "62dd7251e6744568ad2fee0932584708": {
          "model_module": "@jupyter-widgets/controls",
          "model_name": "FloatProgressModel",
          "model_module_version": "1.5.0",
          "state": {
            "_dom_classes": [],
            "_model_module": "@jupyter-widgets/controls",
            "_model_module_version": "1.5.0",
            "_model_name": "FloatProgressModel",
            "_view_count": null,
            "_view_module": "@jupyter-widgets/controls",
            "_view_module_version": "1.5.0",
            "_view_name": "ProgressView",
            "bar_style": "",
            "description": "",
            "description_tooltip": null,
            "layout": "IPY_MODEL_6d5509edb35c4c15a3c88110b810f929",
            "max": 1,
            "min": 0,
            "orientation": "horizontal",
            "style": "IPY_MODEL_9013cd6330c848b08f194708236f5752",
            "value": 1
          }
        },
        "542b54619e8b455e84028082c392e870": {
          "model_module": "@jupyter-widgets/base",
          "model_name": "LayoutModel",
          "model_module_version": "1.2.0",
          "state": {
            "_model_module": "@jupyter-widgets/base",
            "_model_module_version": "1.2.0",
            "_model_name": "LayoutModel",
            "_view_count": null,
            "_view_module": "@jupyter-widgets/base",
            "_view_module_version": "1.2.0",
            "_view_name": "LayoutView",
            "align_content": null,
            "align_items": null,
            "align_self": null,
            "border": null,
            "bottom": null,
            "display": null,
            "flex": null,
            "flex_flow": null,
            "grid_area": null,
            "grid_auto_columns": null,
            "grid_auto_flow": null,
            "grid_auto_rows": null,
            "grid_column": null,
            "grid_gap": null,
            "grid_row": null,
            "grid_template_areas": null,
            "grid_template_columns": null,
            "grid_template_rows": null,
            "height": null,
            "justify_content": null,
            "justify_items": null,
            "left": null,
            "margin": null,
            "max_height": null,
            "max_width": null,
            "min_height": null,
            "min_width": null,
            "object_fit": null,
            "object_position": null,
            "order": null,
            "overflow": null,
            "overflow_x": null,
            "overflow_y": null,
            "padding": null,
            "right": null,
            "top": null,
            "visibility": null,
            "width": null
          }
        },
        "bc051ef1db0d4abd9c132407cbd7c000": {
          "model_module": "@jupyter-widgets/base",
          "model_name": "LayoutModel",
          "model_module_version": "1.2.0",
          "state": {
            "_model_module": "@jupyter-widgets/base",
            "_model_module_version": "1.2.0",
            "_model_name": "LayoutModel",
            "_view_count": null,
            "_view_module": "@jupyter-widgets/base",
            "_view_module_version": "1.2.0",
            "_view_name": "LayoutView",
            "align_content": null,
            "align_items": null,
            "align_self": null,
            "border": null,
            "bottom": null,
            "display": null,
            "flex": null,
            "flex_flow": null,
            "grid_area": null,
            "grid_auto_columns": null,
            "grid_auto_flow": null,
            "grid_auto_rows": null,
            "grid_column": null,
            "grid_gap": null,
            "grid_row": null,
            "grid_template_areas": null,
            "grid_template_columns": null,
            "grid_template_rows": null,
            "height": null,
            "justify_content": null,
            "justify_items": null,
            "left": null,
            "margin": null,
            "max_height": null,
            "max_width": null,
            "min_height": null,
            "min_width": null,
            "object_fit": null,
            "object_position": null,
            "order": null,
            "overflow": null,
            "overflow_x": null,
            "overflow_y": null,
            "padding": null,
            "right": null,
            "top": null,
            "visibility": null,
            "width": null
          }
        },
        "39f4659b80f34d8e8ea9c95ff38e7caa": {
          "model_module": "@jupyter-widgets/controls",
          "model_name": "DescriptionStyleModel",
          "model_module_version": "1.5.0",
          "state": {
            "_model_module": "@jupyter-widgets/controls",
            "_model_module_version": "1.5.0",
            "_model_name": "DescriptionStyleModel",
            "_view_count": null,
            "_view_module": "@jupyter-widgets/base",
            "_view_module_version": "1.2.0",
            "_view_name": "StyleView",
            "description_width": ""
          }
        },
        "6d5509edb35c4c15a3c88110b810f929": {
          "model_module": "@jupyter-widgets/base",
          "model_name": "LayoutModel",
          "model_module_version": "1.2.0",
          "state": {
            "_model_module": "@jupyter-widgets/base",
            "_model_module_version": "1.2.0",
            "_model_name": "LayoutModel",
            "_view_count": null,
            "_view_module": "@jupyter-widgets/base",
            "_view_module_version": "1.2.0",
            "_view_name": "LayoutView",
            "align_content": null,
            "align_items": null,
            "align_self": null,
            "border": null,
            "bottom": null,
            "display": null,
            "flex": null,
            "flex_flow": null,
            "grid_area": null,
            "grid_auto_columns": null,
            "grid_auto_flow": null,
            "grid_auto_rows": null,
            "grid_column": null,
            "grid_gap": null,
            "grid_row": null,
            "grid_template_areas": null,
            "grid_template_columns": null,
            "grid_template_rows": null,
            "height": null,
            "justify_content": null,
            "justify_items": null,
            "left": null,
            "margin": null,
            "max_height": null,
            "max_width": null,
            "min_height": null,
            "min_width": null,
            "object_fit": null,
            "object_position": null,
            "order": null,
            "overflow": null,
            "overflow_x": null,
            "overflow_y": null,
            "padding": null,
            "right": null,
            "top": null,
            "visibility": null,
            "width": null
          }
        },
        "9013cd6330c848b08f194708236f5752": {
          "model_module": "@jupyter-widgets/controls",
          "model_name": "ProgressStyleModel",
          "model_module_version": "1.5.0",
          "state": {
            "_model_module": "@jupyter-widgets/controls",
            "_model_module_version": "1.5.0",
            "_model_name": "ProgressStyleModel",
            "_view_count": null,
            "_view_module": "@jupyter-widgets/base",
            "_view_module_version": "1.2.0",
            "_view_name": "StyleView",
            "bar_color": null,
            "description_width": ""
          }
        },
        "64d790b8b45347db96c99f8eb4003893": {
          "model_module": "@jupyter-widgets/controls",
          "model_name": "VBoxModel",
          "model_module_version": "1.5.0",
          "state": {
            "_dom_classes": [],
            "_model_module": "@jupyter-widgets/controls",
            "_model_module_version": "1.5.0",
            "_model_name": "VBoxModel",
            "_view_count": null,
            "_view_module": "@jupyter-widgets/controls",
            "_view_module_version": "1.5.0",
            "_view_name": "VBoxView",
            "box_style": "",
            "children": [
              "IPY_MODEL_a55a05e68d874f4dacbdf78bcd7ff6d9",
              "IPY_MODEL_9e16c3768cd243d1a20623d9a9b5cf0b"
            ],
            "layout": "IPY_MODEL_e99376b0bebd435d91378b4d1c2280b4"
          }
        },
        "a55a05e68d874f4dacbdf78bcd7ff6d9": {
          "model_module": "@jupyter-widgets/controls",
          "model_name": "LabelModel",
          "model_module_version": "1.5.0",
          "state": {
            "_dom_classes": [],
            "_model_module": "@jupyter-widgets/controls",
            "_model_module_version": "1.5.0",
            "_model_name": "LabelModel",
            "_view_count": null,
            "_view_module": "@jupyter-widgets/controls",
            "_view_module_version": "1.5.0",
            "_view_name": "LabelView",
            "description": "",
            "description_tooltip": null,
            "layout": "IPY_MODEL_9220c6ae1c6748e0a7481a58a41a1881",
            "placeholder": "​",
            "style": "IPY_MODEL_531c7c087d24458f83976c54c466df05",
            "value": "0.001 MB of 0.012 MB uploaded (0.000 MB deduped)\r"
          }
        },
        "9e16c3768cd243d1a20623d9a9b5cf0b": {
          "model_module": "@jupyter-widgets/controls",
          "model_name": "FloatProgressModel",
          "model_module_version": "1.5.0",
          "state": {
            "_dom_classes": [],
            "_model_module": "@jupyter-widgets/controls",
            "_model_module_version": "1.5.0",
            "_model_name": "FloatProgressModel",
            "_view_count": null,
            "_view_module": "@jupyter-widgets/controls",
            "_view_module_version": "1.5.0",
            "_view_name": "ProgressView",
            "bar_style": "",
            "description": "",
            "description_tooltip": null,
            "layout": "IPY_MODEL_581d0ba0dbb34606a1e416ee73df75e1",
            "max": 1,
            "min": 0,
            "orientation": "horizontal",
            "style": "IPY_MODEL_02eb10eb3d714a0db84779d57327f1ea",
            "value": 0.09300660354841277
          }
        },
        "e99376b0bebd435d91378b4d1c2280b4": {
          "model_module": "@jupyter-widgets/base",
          "model_name": "LayoutModel",
          "model_module_version": "1.2.0",
          "state": {
            "_model_module": "@jupyter-widgets/base",
            "_model_module_version": "1.2.0",
            "_model_name": "LayoutModel",
            "_view_count": null,
            "_view_module": "@jupyter-widgets/base",
            "_view_module_version": "1.2.0",
            "_view_name": "LayoutView",
            "align_content": null,
            "align_items": null,
            "align_self": null,
            "border": null,
            "bottom": null,
            "display": null,
            "flex": null,
            "flex_flow": null,
            "grid_area": null,
            "grid_auto_columns": null,
            "grid_auto_flow": null,
            "grid_auto_rows": null,
            "grid_column": null,
            "grid_gap": null,
            "grid_row": null,
            "grid_template_areas": null,
            "grid_template_columns": null,
            "grid_template_rows": null,
            "height": null,
            "justify_content": null,
            "justify_items": null,
            "left": null,
            "margin": null,
            "max_height": null,
            "max_width": null,
            "min_height": null,
            "min_width": null,
            "object_fit": null,
            "object_position": null,
            "order": null,
            "overflow": null,
            "overflow_x": null,
            "overflow_y": null,
            "padding": null,
            "right": null,
            "top": null,
            "visibility": null,
            "width": null
          }
        },
        "9220c6ae1c6748e0a7481a58a41a1881": {
          "model_module": "@jupyter-widgets/base",
          "model_name": "LayoutModel",
          "model_module_version": "1.2.0",
          "state": {
            "_model_module": "@jupyter-widgets/base",
            "_model_module_version": "1.2.0",
            "_model_name": "LayoutModel",
            "_view_count": null,
            "_view_module": "@jupyter-widgets/base",
            "_view_module_version": "1.2.0",
            "_view_name": "LayoutView",
            "align_content": null,
            "align_items": null,
            "align_self": null,
            "border": null,
            "bottom": null,
            "display": null,
            "flex": null,
            "flex_flow": null,
            "grid_area": null,
            "grid_auto_columns": null,
            "grid_auto_flow": null,
            "grid_auto_rows": null,
            "grid_column": null,
            "grid_gap": null,
            "grid_row": null,
            "grid_template_areas": null,
            "grid_template_columns": null,
            "grid_template_rows": null,
            "height": null,
            "justify_content": null,
            "justify_items": null,
            "left": null,
            "margin": null,
            "max_height": null,
            "max_width": null,
            "min_height": null,
            "min_width": null,
            "object_fit": null,
            "object_position": null,
            "order": null,
            "overflow": null,
            "overflow_x": null,
            "overflow_y": null,
            "padding": null,
            "right": null,
            "top": null,
            "visibility": null,
            "width": null
          }
        },
        "531c7c087d24458f83976c54c466df05": {
          "model_module": "@jupyter-widgets/controls",
          "model_name": "DescriptionStyleModel",
          "model_module_version": "1.5.0",
          "state": {
            "_model_module": "@jupyter-widgets/controls",
            "_model_module_version": "1.5.0",
            "_model_name": "DescriptionStyleModel",
            "_view_count": null,
            "_view_module": "@jupyter-widgets/base",
            "_view_module_version": "1.2.0",
            "_view_name": "StyleView",
            "description_width": ""
          }
        },
        "581d0ba0dbb34606a1e416ee73df75e1": {
          "model_module": "@jupyter-widgets/base",
          "model_name": "LayoutModel",
          "model_module_version": "1.2.0",
          "state": {
            "_model_module": "@jupyter-widgets/base",
            "_model_module_version": "1.2.0",
            "_model_name": "LayoutModel",
            "_view_count": null,
            "_view_module": "@jupyter-widgets/base",
            "_view_module_version": "1.2.0",
            "_view_name": "LayoutView",
            "align_content": null,
            "align_items": null,
            "align_self": null,
            "border": null,
            "bottom": null,
            "display": null,
            "flex": null,
            "flex_flow": null,
            "grid_area": null,
            "grid_auto_columns": null,
            "grid_auto_flow": null,
            "grid_auto_rows": null,
            "grid_column": null,
            "grid_gap": null,
            "grid_row": null,
            "grid_template_areas": null,
            "grid_template_columns": null,
            "grid_template_rows": null,
            "height": null,
            "justify_content": null,
            "justify_items": null,
            "left": null,
            "margin": null,
            "max_height": null,
            "max_width": null,
            "min_height": null,
            "min_width": null,
            "object_fit": null,
            "object_position": null,
            "order": null,
            "overflow": null,
            "overflow_x": null,
            "overflow_y": null,
            "padding": null,
            "right": null,
            "top": null,
            "visibility": null,
            "width": null
          }
        },
        "02eb10eb3d714a0db84779d57327f1ea": {
          "model_module": "@jupyter-widgets/controls",
          "model_name": "ProgressStyleModel",
          "model_module_version": "1.5.0",
          "state": {
            "_model_module": "@jupyter-widgets/controls",
            "_model_module_version": "1.5.0",
            "_model_name": "ProgressStyleModel",
            "_view_count": null,
            "_view_module": "@jupyter-widgets/base",
            "_view_module_version": "1.2.0",
            "_view_name": "StyleView",
            "bar_color": null,
            "description_width": ""
          }
        }
      }
    }
  },
  "cells": [
    {
      "cell_type": "markdown",
      "source": [
        "# **Imports**"
      ],
      "metadata": {
        "id": "9TErd_2-yOul"
      }
    },
    {
      "cell_type": "code",
      "execution_count": 1,
      "metadata": {
        "id": "fI1c4GDKx9Nc",
        "colab": {
          "base_uri": "https://localhost:8080/",
          "height": 451
        },
        "outputId": "b787efdc-e3b9-4c4b-d9b7-08ac12ae4a9b"
      },
      "outputs": [
        {
          "output_type": "stream",
          "name": "stdout",
          "text": [
            "\u001b[2K     \u001b[90m━━━━━━━━━━━━━━━━━━━━━━━━━━━━━━━━━━━━━━━━\u001b[0m \u001b[32m2.0/2.0 MB\u001b[0m \u001b[31m64.7 MB/s\u001b[0m eta \u001b[36m0:00:00\u001b[0m\n",
            "\u001b[2K     \u001b[90m━━━━━━━━━━━━━━━━━━━━━━━━━━━━━━━━━━━━━━\u001b[0m \u001b[32m194.8/194.8 KB\u001b[0m \u001b[31m22.6 MB/s\u001b[0m eta \u001b[36m0:00:00\u001b[0m\n",
            "\u001b[?25h  Preparing metadata (setup.py) ... \u001b[?25l\u001b[?25hdone\n",
            "\u001b[2K     \u001b[90m━━━━━━━━━━━━━━━━━━━━━━━━━━━━━━━━━━━━━━\u001b[0m \u001b[32m184.3/184.3 KB\u001b[0m \u001b[31m22.9 MB/s\u001b[0m eta \u001b[36m0:00:00\u001b[0m\n",
            "\u001b[2K     \u001b[90m━━━━━━━━━━━━━━━━━━━━━━━━━━━━━━━━━━━━━━━━\u001b[0m \u001b[32m62.7/62.7 KB\u001b[0m \u001b[31m7.9 MB/s\u001b[0m eta \u001b[36m0:00:00\u001b[0m\n",
            "\u001b[?25h  Building wheel for pathtools (setup.py) ... \u001b[?25l\u001b[?25hdone\n"
          ]
        },
        {
          "output_type": "display_data",
          "data": {
            "text/plain": [
              "<IPython.core.display.Javascript object>"
            ],
            "application/javascript": [
              "\n",
              "        window._wandbApiKey = new Promise((resolve, reject) => {\n",
              "            function loadScript(url) {\n",
              "            return new Promise(function(resolve, reject) {\n",
              "                let newScript = document.createElement(\"script\");\n",
              "                newScript.onerror = reject;\n",
              "                newScript.onload = resolve;\n",
              "                document.body.appendChild(newScript);\n",
              "                newScript.src = url;\n",
              "            });\n",
              "            }\n",
              "            loadScript(\"https://cdn.jsdelivr.net/npm/postmate/build/postmate.min.js\").then(() => {\n",
              "            const iframe = document.createElement('iframe')\n",
              "            iframe.style.cssText = \"width:0;height:0;border:none\"\n",
              "            document.body.appendChild(iframe)\n",
              "            const handshake = new Postmate({\n",
              "                container: iframe,\n",
              "                url: 'https://wandb.ai/authorize'\n",
              "            });\n",
              "            const timeout = setTimeout(() => reject(\"Couldn't auto authenticate\"), 5000)\n",
              "            handshake.then(function(child) {\n",
              "                child.on('authorize', data => {\n",
              "                    clearTimeout(timeout)\n",
              "                    resolve(data)\n",
              "                });\n",
              "            });\n",
              "            })\n",
              "        });\n",
              "    "
            ]
          },
          "metadata": {}
        },
        {
          "output_type": "stream",
          "name": "stderr",
          "text": [
            "\u001b[34m\u001b[1mwandb\u001b[0m: Logging into wandb.ai. (Learn how to deploy a W&B server locally: https://wandb.me/wandb-server)\n",
            "\u001b[34m\u001b[1mwandb\u001b[0m: You can find your API key in your browser here: https://wandb.ai/authorize\n",
            "wandb: Paste an API key from your profile and hit enter, or press ctrl+c to quit:"
          ]
        },
        {
          "name": "stdout",
          "output_type": "stream",
          "text": [
            " ··········\n"
          ]
        },
        {
          "output_type": "stream",
          "name": "stderr",
          "text": [
            "\u001b[34m\u001b[1mwandb\u001b[0m: Appending key for api.wandb.ai to your netrc file: /root/.netrc\n"
          ]
        },
        {
          "output_type": "stream",
          "name": "stdout",
          "text": [
            "Looking in indexes: https://pypi.org/simple, https://us-python.pkg.dev/colab-wheels/public/simple/\n",
            "Requirement already satisfied: torch in /usr/local/lib/python3.9/dist-packages (1.13.1+cu116)\n",
            "Requirement already satisfied: typing-extensions in /usr/local/lib/python3.9/dist-packages (from torch) (4.5.0)\n",
            "Looking in indexes: https://pypi.org/simple, https://us-python.pkg.dev/colab-wheels/public/simple/\n",
            "Requirement already satisfied: torchvision in /usr/local/lib/python3.9/dist-packages (0.14.1+cu116)\n",
            "Requirement already satisfied: typing-extensions in /usr/local/lib/python3.9/dist-packages (from torchvision) (4.5.0)\n",
            "Requirement already satisfied: requests in /usr/local/lib/python3.9/dist-packages (from torchvision) (2.27.1)\n",
            "Requirement already satisfied: numpy in /usr/local/lib/python3.9/dist-packages (from torchvision) (1.22.4)\n",
            "Requirement already satisfied: pillow!=8.3.*,>=5.3.0 in /usr/local/lib/python3.9/dist-packages (from torchvision) (8.4.0)\n",
            "Requirement already satisfied: torch==1.13.1 in /usr/local/lib/python3.9/dist-packages (from torchvision) (1.13.1+cu116)\n",
            "Requirement already satisfied: certifi>=2017.4.17 in /usr/local/lib/python3.9/dist-packages (from requests->torchvision) (2022.12.7)\n",
            "Requirement already satisfied: idna<4,>=2.5 in /usr/local/lib/python3.9/dist-packages (from requests->torchvision) (3.4)\n",
            "Requirement already satisfied: charset-normalizer~=2.0.0 in /usr/local/lib/python3.9/dist-packages (from requests->torchvision) (2.0.12)\n",
            "Requirement already satisfied: urllib3<1.27,>=1.21.1 in /usr/local/lib/python3.9/dist-packages (from requests->torchvision) (1.26.15)\n"
          ]
        }
      ],
      "source": [
        "!pip install wandb -qU\n",
        "import wandb\n",
        "wandb.login()\n",
        "!pip install torch\n",
        "!pip install torchvision\n",
        "import torch.nn as nn\n",
        "import torch.nn.functional as F\n",
        "import torch\n",
        "import torchvision\n",
        "import torchvision.transforms as transforms\n",
        "from itertools import product\n",
        "import torch.optim as optim\n",
        "device = \"cuda:0\" if torch.cuda.is_available() else \"cpu\""
      ]
    },
    {
      "cell_type": "markdown",
      "source": [
        "## **Define the data loaders (for both train & test)**"
      ],
      "metadata": {
        "id": "RJWY0qzozdgf"
      }
    },
    {
      "cell_type": "code",
      "source": [
        "def get_dataloader(is_train, batch_size=4):\n",
        "    transform = transforms.Compose(\n",
        "    [transforms.ToTensor(),\n",
        "     transforms.Normalize((0.5, 0.5, 0.5), (0.5, 0.5, 0.5))])\n",
        "    \n",
        "    dataset = torchvision.datasets.CIFAR10(root='./data', train=is_train,\n",
        "                                            download=True, transform=transform)\n",
        "    loader = torch.utils.data.DataLoader(dataset, batch_size=batch_size,\n",
        "                                              shuffle=is_train, num_workers=2)\n",
        "\n",
        "    return loader\n",
        "  \n",
        "trainloader = get_dataloader(is_train = True)\n",
        "testloader = get_dataloader(is_train = False)"
      ],
      "metadata": {
        "id": "VR0RCD0tzBHz",
        "colab": {
          "base_uri": "https://localhost:8080/",
          "height": 101,
          "referenced_widgets": [
            "ccf3863731504307b16acc9dee0bb185",
            "d2602eb6924147c48163a3726c271927",
            "f0bc6b54666a4f04b2b9a41cf8217919",
            "87d8587caf3e4328aff2e394eec543d6",
            "eead0db7d2dd411d9ea5b75bafa04d48",
            "56a7d0d93bb14766968439efb1dce633",
            "8c0cca5c799c436eb25d55eb9c9b304a",
            "2e13af78c3cd4b46ad8823a5ab48b3cf",
            "6c82de70a7f14226a961e12133c1314e",
            "fddd25c94b1a4acea2788c7b3e70614d",
            "acfe008c494445db8ac88c35ec8c320c"
          ]
        },
        "outputId": "24c2041f-7111-44a8-eebb-bce0e90ab1cf"
      },
      "execution_count": 2,
      "outputs": [
        {
          "output_type": "stream",
          "name": "stdout",
          "text": [
            "Downloading https://www.cs.toronto.edu/~kriz/cifar-10-python.tar.gz to ./data/cifar-10-python.tar.gz\n"
          ]
        },
        {
          "output_type": "display_data",
          "data": {
            "text/plain": [
              "  0%|          | 0/170498071 [00:00<?, ?it/s]"
            ],
            "application/vnd.jupyter.widget-view+json": {
              "version_major": 2,
              "version_minor": 0,
              "model_id": "ccf3863731504307b16acc9dee0bb185"
            }
          },
          "metadata": {}
        },
        {
          "output_type": "stream",
          "name": "stdout",
          "text": [
            "Extracting ./data/cifar-10-python.tar.gz to ./data\n",
            "Files already downloaded and verified\n"
          ]
        }
      ]
    },
    {
      "cell_type": "markdown",
      "source": [
        "# **Define the CNN modules for the different questions**"
      ],
      "metadata": {
        "id": "ID-4mTPO2J9u"
      }
    },
    {
      "cell_type": "code",
      "source": [
        "# The basic model of question #1\n",
        "class Q1Net(nn.Module):\n",
        "    def __init__(self, n_conv_layers, ker, cout1, c_factor):\n",
        "        super().__init__()\n",
        "        self.c_factor = c_factor        # determine in how many neurons increase the receptive field each layer\n",
        "        self.layers = nn.ModuleList()   # This container holds the layers in the net\n",
        "        self.pool = nn.MaxPool2d(2, 2)  # A MaxPooling layer\n",
        "        self.build_layers(n_conv_layers, ker, cout1)\n",
        "\n",
        "    def build_layers(self, n_conv_layers, ker, cout):\n",
        "        c_in = 3   # c_in is 3 for RGB channels in the input\n",
        "\n",
        "        # Build the convolution layers\n",
        "        for l in range(n_conv_layers):\n",
        "          self.layers.append(nn.Conv2d(c_in, cout, ker, padding='same'))\n",
        "          c_in = cout\n",
        "          cout += self.c_factor\n",
        "\n",
        "        # Build the fully-connected layer\n",
        "        pow = 5 - n_conv_layers\n",
        "        self.layers.append(nn.Linear((cout-self.c_factor)*(4**pow), 10)) \n",
        "\n",
        "    def forward(self, x):\n",
        "        for layer in self.layers[:-1]:          # run input in every layer but last that is fully-connected\n",
        "            x = self.pool(F.relu(layer(x)))\n",
        "        x = torch.flatten(x, 1)\n",
        "        x = self.layers[-1](x)\n",
        "        return x\n",
        "\n",
        "\n",
        "# The model for qusetion #2, like the basic but without the non-linear layers\n",
        "class Q2Net(nn.Module):\n",
        "    def __init__(self, n_conv_layers, ker, cout1, c_factor):\n",
        "        super().__init__()\n",
        "        self.c_factor = c_factor        \n",
        "        self.layers = nn.ModuleList()   \n",
        "        self.build_layers(n_conv_layers, ker, cout1)\n",
        "\n",
        "    def build_layers(self, n_conv_layers, ker, cout):\n",
        "        c_in = 3 \n",
        "        for l in range(n_conv_layers):\n",
        "          self.layers.append(nn.Conv2d(c_in, cout, ker, padding=\"same\"))\n",
        "          c_in = cout\n",
        "          cout += self.c_factor\n",
        "        self.layers.append(nn.Linear((cout-self.c_factor)*32*32, 10))  \n",
        "\n",
        "    def forward(self, x):\n",
        "        for layer in self.layers[:-1]:          \n",
        "            x = layer(x)\n",
        "        x = torch.flatten(x, 1)\n",
        "        x = self.layers[-1](x)\n",
        "        return x\n",
        "\n",
        "\n",
        "# The model for qusetion #3\n",
        "# if with_avg=True, then: Conv -> Average over channels -> FC\n",
        "# otherwise, without the averageing\n",
        "class Q3Net(nn.Module):\n",
        "    def __init__(self, ker, cout, with_avg=True):\n",
        "        super().__init__()  \n",
        "        self.with_avg = with_avg\n",
        "        self.conv = nn.Conv2d(3, cout, ker, padding='same')\n",
        "        if self.with_avg:\n",
        "          self.fc = nn.Linear(1*32*32, 10) \n",
        "        else:\n",
        "          self.fc = nn.Linear(cout*32*32, 10) \n",
        "\n",
        "    def forward(self, x):\n",
        "        x = self.conv(x)\n",
        "        if self.with_avg:\n",
        "          x = torch.mean(x, dim=1)\n",
        "        x = F.relu(x)\n",
        "        x = torch.flatten(x, 1)\n",
        "        x = self.fc(x)\n",
        "        return x\n",
        "\n",
        "        \n",
        "def get_model(model, parameters):\n",
        "  # Simply create an instance of the given model, with the given parameters list\n",
        "  return model(*parameters).to(device)"
      ],
      "metadata": {
        "id": "NrdqaSp32M_d"
      },
      "execution_count": 12,
      "outputs": []
    },
    {
      "cell_type": "markdown",
      "source": [
        "# **Define the evaluation (for test set)**\n",
        "This function is for the evaluation of the model using the test set.\n",
        "The evaluation is called after every epoch in the training set.\n",
        "Here I also computed the accuracy event thought is not necessary for the submission, just for sanity checking that the model actually works fine."
      ],
      "metadata": {
        "id": "n7oc-LF4Qpt6"
      }
    },
    {
      "cell_type": "code",
      "source": [
        "def evaluate(model, test_set_loader, criterion):\n",
        "    correct = 0.\n",
        "    total = 0.\n",
        "    with torch.no_grad():\n",
        "        for data in test_set_loader:\n",
        "            inputs, labels = data[0].to(device), data[1].to(device)\n",
        "\n",
        "            # The loss is accumulated during the run and then normalized\n",
        "            # It uses the CrossEntropyLoss which perform Softmax within it\n",
        "            outputs = model(inputs)\n",
        "            test_loss = criterion(outputs, labels)\n",
        "\n",
        "            # The accuracy computed by taking the label which is corresponding  \n",
        "            # to the maximum value in the output vector of each prediction\n",
        "            # accumulate it if the label is correct, and the normalize\n",
        "            _, predicted = torch.max(outputs.data, 1)\n",
        "            total += labels.size(0)\n",
        "            correct += (predicted == labels).sum().item()\n",
        "\n",
        "    print(f'Accuracy of the network on the 10000 test images: {100 * correct // total} %')\n",
        "    return test_loss, correct / total"
      ],
      "metadata": {
        "id": "bYUZHc2nQunN"
      },
      "execution_count": 4,
      "outputs": []
    },
    {
      "cell_type": "markdown",
      "source": [
        "# **Define the train loop**"
      ],
      "metadata": {
        "id": "y4mHb5h-Foth"
      }
    },
    {
      "cell_type": "code",
      "source": [
        "def train_loop(model, train_data_loader, test_data_loader, lr, epochs):\n",
        "  criterion = nn.CrossEntropyLoss()\n",
        "  optimizer = optim.SGD(model.parameters(), lr=lr)\n",
        "  running_loss = 0.0\n",
        "\n",
        "  for epoch in range(epochs):\n",
        "      for i, data in enumerate(train_data_loader):\n",
        "          inputs, labels = data[0].to(device), data[1].to(device)\n",
        "\n",
        "          # Update model's parameters with gradient descend method\n",
        "          optimizer.zero_grad()\n",
        "          outputs = model(inputs)\n",
        "          train_loss = criterion(outputs, labels)\n",
        "          train_loss.backward()\n",
        "          optimizer.step()\n",
        "\n",
        "          # print statistics\n",
        "          running_loss += train_loss.item()\n",
        "          if i % 2000 == 1999:    # print every 2000 mini-batches\n",
        "            print(f'[{epoch + 1}, {i + 1:5d}] loss: {running_loss / 2000:.3f}')\n",
        "            running_loss = 0.0\n",
        "\n",
        "          # Plot the loss\n",
        "          metrics = {\"train/train_loss\": train_loss.item()}\n",
        "          wandb.log(metrics)   \n",
        "\n",
        "      # Evaluate the model's phase and plot it\n",
        "      test_loss, accuracy = evaluate(model, test_data_loader, criterion)\n",
        "      test_metrics = {\"test/test_loss\": test_loss,\n",
        "                     \"test/test_accuracy\": accuracy}\n",
        "      wandb.log(test_metrics)\n",
        "\n",
        "  print('Finished Training')"
      ],
      "metadata": {
        "id": "P3tCQKeSFrOX"
      },
      "execution_count": 5,
      "outputs": []
    },
    {
      "cell_type": "markdown",
      "source": [
        "# **Define the Hyper-Parameters**\n",
        "This function defined in separate from other implementations in order to keep tracking the paramteres easy. \n",
        "Here I defined the different options for kernel sizes (both kernels of the same size), for the number of channels from each conv2d layer, and for the fully-connected layer.\n",
        "NOTICE that all the kernels are from the same size, and the cout values are increasing by 4 in every layer (implemented in the model class).\n",
        "\n",
        "Postprocess, in WANDB we can group the charts by specific parameters and compare."
      ],
      "metadata": {
        "id": "Jo7a3Vam3Ocf"
      }
    },
    {
      "cell_type": "code",
      "source": [
        "def get_parameters(q):\n",
        "\n",
        "  # for question 1\n",
        "  if q==1:\n",
        "    # Define options groups for parameters\n",
        "    number_of_layers = [4,3]\n",
        "    kernel_options = [5]\n",
        "    cout1_options = [10]\n",
        "    receptive_factor = [20]    # How many channels will be added to c_out every layer\n",
        "    res = []\n",
        "    # create lists of parameters using product of the groups\n",
        "    # also, create as many cout needed for the number of layers, each one is\n",
        "    # bigger in 4 from the previous cout\n",
        "    for p in product(number_of_layers, kernel_options, cout1_options, receptive_factor): \n",
        "        res.append(p)\n",
        "    return res\n",
        "\n",
        "  # for question 2\n",
        "  elif q==2:\n",
        "    best_fit_param = [[4,5,10,20]]\n",
        "    bigger_param = [[6,5,10,20], [6,5,20,20], [10,5,20,30]]\n",
        "    names = [\"Best Fit\", \"More layers\", \"More Channels\", \"Even More of Both\"]\n",
        "    return zip(names, best_fit_param + bigger_param)\n",
        "\n",
        "   # for question 2\n",
        "  elif q==3:\n",
        "    # List format: [<kernel size>, <channels amount>, <averaging: boolean>]\n",
        "    param = [[5,10,True],[5,20,True],[5,10,False],[5,20,False]]\n",
        "    return param"
      ],
      "metadata": {
        "id": "-LFmJOsN3U0J"
      },
      "execution_count": 10,
      "outputs": []
    },
    {
      "cell_type": "markdown",
      "source": [
        "# **Q. 1: Experiment different hyper-parameters**\n",
        "The hyper-parameters mentioned are only of the size of the layers, meanly the amount of neurons in the net."
      ],
      "metadata": {
        "id": "gFanJAPD3Vuu"
      }
    },
    {
      "cell_type": "code",
      "source": [
        "for i, param in enumerate(get_parameters(q=1)):\n",
        "  model = get_model(Q1Net, param)\n",
        "  n_param = sum(p.numel() for p in model.parameters() if p.requires_grad)\n",
        "\n",
        "  wandb.init(\n",
        "      project=\"Ex1_Q1\",\n",
        "      config={\n",
        "          \"epochs\": 15,\n",
        "          \"lr\": 0.001,\n",
        "          \"num_of_conv\": param[0],\n",
        "          \"ker\": param[1],\n",
        "          \"cout1\": param[2],\n",
        "          \"c_factor\" : param[3],\n",
        "          \"n_param\" : n_param\n",
        "          })\n",
        "  config = wandb.config\n",
        "  \n",
        "  # train and evaluate the model\n",
        "  train_loop(model, trainloader, testloader, config.lr, config.epochs)  \n",
        "\n",
        "  wandb.finish()"
      ],
      "metadata": {
        "id": "MmCdMNF4GE6s"
      },
      "execution_count": null,
      "outputs": []
    },
    {
      "cell_type": "markdown",
      "source": [
        "# **Q2: Importance of Non-Linearity**\n",
        "Reminder: The best parameters I found on Q1 were: \n",
        "4 layers of convolution of kernel size 5. Also, in each layer the amount of channels increase by 20, starting in 10 in the first layer."
      ],
      "metadata": {
        "id": "gEJBtJiIrZUB"
      }
    },
    {
      "cell_type": "code",
      "source": [
        "for name, param in get_parameters(q=2):\n",
        "  model = get_model(Q2Net, param)\n",
        "  n_param = sum(p.numel() for p in model.parameters() if p.requires_grad)\n",
        "  wandb.init(\n",
        "      project=\"Ex1_Q2\",\n",
        "      config={\n",
        "          \"epochs\": 15,\n",
        "          \"lr\": 0.001,\n",
        "          \"name\" :name,\n",
        "          \"num_of_conv\": param[0],\n",
        "          \"ker\": param[1],\n",
        "          \"cout1\": param[2],\n",
        "          \"c_factor\" : param[3],\n",
        "          \"n_param\" : n_param\n",
        "          })\n",
        "  config = wandb.config\n",
        "  train_loop(model, trainloader, testloader, config.lr, config.epochs)  \n",
        "  wandb.finish()"
      ],
      "metadata": {
        "id": "DPYMOSNhr8KY"
      },
      "execution_count": null,
      "outputs": []
    },
    {
      "cell_type": "markdown",
      "source": [
        "# **Q3: Cascaded Receptive Field**\n",
        "Here I ran the two options (send the activations to FC directly, and average the activations over the channels) with changing the net size (altering the amount of channelc out from the convolution layer)"
      ],
      "metadata": {
        "id": "m0_MvfmEUYjs"
      }
    },
    {
      "cell_type": "code",
      "source": [
        "for param in get_parameters(q=3):\n",
        "  model = get_model(Q3Net, param)\n",
        "  n_param = sum(p.numel() for p in model.parameters() if p.requires_grad)\n",
        "  wandb.init(\n",
        "      project=\"Ex1_Q3\",\n",
        "      config={\n",
        "          \"epochs\": 15,\n",
        "          \"lr\": 0.001,\n",
        "          \"cout1\": param[1],\n",
        "          \"averaged\" : param[2],\n",
        "          \"n_param\" : n_param\n",
        "          })\n",
        "  config = wandb.config\n",
        "  \n",
        "  # train and evaluate the model\n",
        "  train_loop(model, trainloader, testloader, config.lr, config.epochs)  \n",
        "\n",
        "  wandb.finish()"
      ],
      "metadata": {
        "colab": {
          "base_uri": "https://localhost:8080/",
          "height": 1000,
          "referenced_widgets": [
            "a1047f160ec24672a8cc9cb9ad382122",
            "2a30b2ed193e4899a98d1c774c94ac62",
            "5b4259c049bc4e4cb51a9dfae6b3a4b4",
            "5fade95db66143b28e35323ff4447d8f",
            "4627d13bd72549f9ad572ba4ec1222fd",
            "32d03d1929994ba7b602085d382cd946",
            "f9cf9c37edf74b148602b67be1862f17",
            "e1715c9e77a8463c90feefaef5d30111",
            "c2d3c314d8024f5ab728d5ec1a87f56c",
            "9562831274404931ad8211ef698e1531",
            "7f5dd95315cd4b099a450a814960adcc",
            "99e26b2dc28b421d9c4f4065b37cf14a",
            "e817321e315144969e579c09ba61419f",
            "b0c14a8ed0f24c1fb5bf3a26094f6096",
            "031d561dc6fc4fdf8044083f991124fb",
            "b25122849c634e15a85ff0f6ef607266",
            "cc5f42fcd732428aa4ceb2eb51a5effb",
            "443ab3a3b5c443dd9d32e9a7accf8f33",
            "62dd7251e6744568ad2fee0932584708",
            "542b54619e8b455e84028082c392e870",
            "bc051ef1db0d4abd9c132407cbd7c000",
            "39f4659b80f34d8e8ea9c95ff38e7caa",
            "6d5509edb35c4c15a3c88110b810f929",
            "9013cd6330c848b08f194708236f5752",
            "64d790b8b45347db96c99f8eb4003893",
            "a55a05e68d874f4dacbdf78bcd7ff6d9",
            "9e16c3768cd243d1a20623d9a9b5cf0b",
            "e99376b0bebd435d91378b4d1c2280b4",
            "9220c6ae1c6748e0a7481a58a41a1881",
            "531c7c087d24458f83976c54c466df05",
            "581d0ba0dbb34606a1e416ee73df75e1",
            "02eb10eb3d714a0db84779d57327f1ea"
          ]
        },
        "id": "Oa_riLiDUTkV",
        "outputId": "4e4393af-0988-42b4-e9cc-a5f8ba721c03"
      },
      "execution_count": 13,
      "outputs": [
        {
          "output_type": "display_data",
          "data": {
            "text/plain": [
              "<IPython.core.display.HTML object>"
            ],
            "text/html": [
              "Finishing last run (ID:1j3rpudp) before initializing another..."
            ]
          },
          "metadata": {}
        },
        {
          "output_type": "display_data",
          "data": {
            "text/plain": [
              "<IPython.core.display.HTML object>"
            ],
            "text/html": [
              "Waiting for W&B process to finish... <strong style=\"color:green\">(success).</strong>"
            ]
          },
          "metadata": {}
        },
        {
          "output_type": "display_data",
          "data": {
            "text/plain": [
              "VBox(children=(Label(value='0.009 MB of 0.009 MB uploaded (0.000 MB deduped)\\r'), FloatProgress(value=1.0, max…"
            ],
            "application/vnd.jupyter.widget-view+json": {
              "version_major": 2,
              "version_minor": 0,
              "model_id": "a1047f160ec24672a8cc9cb9ad382122"
            }
          },
          "metadata": {}
        },
        {
          "output_type": "display_data",
          "data": {
            "text/plain": [
              "<IPython.core.display.HTML object>"
            ],
            "text/html": [
              " View run <strong style=\"color:#cdcd00\">solar-wind-1</strong> at: <a href='https://wandb.ai/yoavshapira1-team/Ex1_Q3/runs/1j3rpudp' target=\"_blank\">https://wandb.ai/yoavshapira1-team/Ex1_Q3/runs/1j3rpudp</a><br/>Synced 4 W&B file(s), 0 media file(s), 0 artifact file(s) and 0 other file(s)"
            ]
          },
          "metadata": {}
        },
        {
          "output_type": "display_data",
          "data": {
            "text/plain": [
              "<IPython.core.display.HTML object>"
            ],
            "text/html": [
              "Find logs at: <code>./wandb/run-20230329_171217-1j3rpudp/logs</code>"
            ]
          },
          "metadata": {}
        },
        {
          "output_type": "display_data",
          "data": {
            "text/plain": [
              "<IPython.core.display.HTML object>"
            ],
            "text/html": [
              "Successfully finished last run (ID:1j3rpudp). Initializing new run:<br/>"
            ]
          },
          "metadata": {}
        },
        {
          "output_type": "display_data",
          "data": {
            "text/plain": [
              "<IPython.core.display.HTML object>"
            ],
            "text/html": [
              "Tracking run with wandb version 0.14.0"
            ]
          },
          "metadata": {}
        },
        {
          "output_type": "display_data",
          "data": {
            "text/plain": [
              "<IPython.core.display.HTML object>"
            ],
            "text/html": [
              "Run data is saved locally in <code>/content/wandb/run-20230329_172603-zixb63xo</code>"
            ]
          },
          "metadata": {}
        },
        {
          "output_type": "display_data",
          "data": {
            "text/plain": [
              "<IPython.core.display.HTML object>"
            ],
            "text/html": [
              "Syncing run <strong><a href='https://wandb.ai/yoavshapira1-team/Ex1_Q3/runs/zixb63xo' target=\"_blank\">golden-pyramid-2</a></strong> to <a href='https://wandb.ai/yoavshapira1-team/Ex1_Q3' target=\"_blank\">Weights & Biases</a> (<a href='https://wandb.me/run' target=\"_blank\">docs</a>)<br/>"
            ]
          },
          "metadata": {}
        },
        {
          "output_type": "display_data",
          "data": {
            "text/plain": [
              "<IPython.core.display.HTML object>"
            ],
            "text/html": [
              " View project at <a href='https://wandb.ai/yoavshapira1-team/Ex1_Q3' target=\"_blank\">https://wandb.ai/yoavshapira1-team/Ex1_Q3</a>"
            ]
          },
          "metadata": {}
        },
        {
          "output_type": "display_data",
          "data": {
            "text/plain": [
              "<IPython.core.display.HTML object>"
            ],
            "text/html": [
              " View run at <a href='https://wandb.ai/yoavshapira1-team/Ex1_Q3/runs/zixb63xo' target=\"_blank\">https://wandb.ai/yoavshapira1-team/Ex1_Q3/runs/zixb63xo</a>"
            ]
          },
          "metadata": {}
        },
        {
          "output_type": "stream",
          "name": "stdout",
          "text": [
            "[1,  2000] loss: 2.277\n",
            "[1,  4000] loss: 2.172\n",
            "[1,  6000] loss: 2.111\n",
            "[1,  8000] loss: 2.090\n",
            "[1, 10000] loss: 2.069\n",
            "[1, 12000] loss: 2.047\n",
            "Accuracy of the network on the 10000 test images: 30.0 %\n",
            "[2,  2000] loss: 2.527\n",
            "[2,  4000] loss: 2.013\n",
            "[2,  6000] loss: 1.996\n",
            "[2,  8000] loss: 1.984\n",
            "[2, 10000] loss: 1.983\n",
            "[2, 12000] loss: 1.977\n",
            "Accuracy of the network on the 10000 test images: 31.0 %\n",
            "[3,  2000] loss: 2.467\n",
            "[3,  4000] loss: 1.944\n",
            "[3,  6000] loss: 1.956\n",
            "[3,  8000] loss: 1.948\n",
            "[3, 10000] loss: 1.954\n",
            "[3, 12000] loss: 1.940\n",
            "Accuracy of the network on the 10000 test images: 31.0 %\n",
            "[4,  2000] loss: 2.420\n",
            "[4,  4000] loss: 1.940\n",
            "[4,  6000] loss: 1.932\n",
            "[4,  8000] loss: 1.921\n",
            "[4, 10000] loss: 1.916\n",
            "[4, 12000] loss: 1.920\n",
            "Accuracy of the network on the 10000 test images: 32.0 %\n",
            "[5,  2000] loss: 2.392\n",
            "[5,  4000] loss: 1.910\n",
            "[5,  6000] loss: 1.914\n",
            "[5,  8000] loss: 1.902\n",
            "[5, 10000] loss: 1.903\n",
            "[5, 12000] loss: 1.911\n",
            "Accuracy of the network on the 10000 test images: 33.0 %\n",
            "[6,  2000] loss: 2.371\n",
            "[6,  4000] loss: 1.891\n",
            "[6,  6000] loss: 1.897\n",
            "[6,  8000] loss: 1.913\n",
            "[6, 10000] loss: 1.904\n",
            "[6, 12000] loss: 1.878\n",
            "Accuracy of the network on the 10000 test images: 33.0 %\n",
            "[7,  2000] loss: 2.365\n",
            "[7,  4000] loss: 1.896\n",
            "[7,  6000] loss: 1.882\n",
            "[7,  8000] loss: 1.866\n",
            "[7, 10000] loss: 1.882\n",
            "[7, 12000] loss: 1.897\n",
            "Accuracy of the network on the 10000 test images: 33.0 %\n",
            "[8,  2000] loss: 2.360\n",
            "[8,  4000] loss: 1.867\n",
            "[8,  6000] loss: 1.898\n",
            "[8,  8000] loss: 1.872\n",
            "[8, 10000] loss: 1.868\n",
            "[8, 12000] loss: 1.869\n",
            "Accuracy of the network on the 10000 test images: 33.0 %\n",
            "[9,  2000] loss: 2.339\n",
            "[9,  4000] loss: 1.886\n",
            "[9,  6000] loss: 1.874\n",
            "[9,  8000] loss: 1.868\n",
            "[9, 10000] loss: 1.868\n",
            "[9, 12000] loss: 1.856\n",
            "Accuracy of the network on the 10000 test images: 34.0 %\n",
            "[10,  2000] loss: 2.314\n",
            "[10,  4000] loss: 1.855\n",
            "[10,  6000] loss: 1.871\n",
            "[10,  8000] loss: 1.859\n",
            "[10, 10000] loss: 1.856\n",
            "[10, 12000] loss: 1.865\n",
            "Accuracy of the network on the 10000 test images: 34.0 %\n",
            "[11,  2000] loss: 2.338\n",
            "[11,  4000] loss: 1.856\n",
            "[11,  6000] loss: 1.858\n",
            "[11,  8000] loss: 1.857\n",
            "[11, 10000] loss: 1.851\n",
            "[11, 12000] loss: 1.850\n",
            "Accuracy of the network on the 10000 test images: 33.0 %\n",
            "[12,  2000] loss: 2.311\n",
            "[12,  4000] loss: 1.845\n",
            "[12,  6000] loss: 1.838\n",
            "[12,  8000] loss: 1.837\n",
            "[12, 10000] loss: 1.857\n",
            "[12, 12000] loss: 1.871\n",
            "Accuracy of the network on the 10000 test images: 34.0 %\n",
            "[13,  2000] loss: 2.316\n",
            "[13,  4000] loss: 1.842\n",
            "[13,  6000] loss: 1.846\n",
            "[13,  8000] loss: 1.851\n",
            "[13, 10000] loss: 1.835\n",
            "[13, 12000] loss: 1.836\n",
            "Accuracy of the network on the 10000 test images: 35.0 %\n",
            "[14,  2000] loss: 2.315\n",
            "[14,  4000] loss: 1.839\n",
            "[14,  6000] loss: 1.828\n",
            "[14,  8000] loss: 1.853\n",
            "[14, 10000] loss: 1.849\n",
            "[14, 12000] loss: 1.838\n",
            "Accuracy of the network on the 10000 test images: 35.0 %\n",
            "[15,  2000] loss: 2.293\n",
            "[15,  4000] loss: 1.825\n",
            "[15,  6000] loss: 1.835\n",
            "[15,  8000] loss: 1.840\n",
            "[15, 10000] loss: 1.827\n",
            "[15, 12000] loss: 1.857\n",
            "Accuracy of the network on the 10000 test images: 35.0 %\n",
            "Finished Training\n"
          ]
        },
        {
          "output_type": "display_data",
          "data": {
            "text/plain": [
              "<IPython.core.display.HTML object>"
            ],
            "text/html": [
              "Waiting for W&B process to finish... <strong style=\"color:green\">(success).</strong>"
            ]
          },
          "metadata": {}
        },
        {
          "output_type": "display_data",
          "data": {
            "text/plain": [
              "VBox(children=(Label(value='0.001 MB of 0.012 MB uploaded (0.000 MB deduped)\\r'), FloatProgress(value=0.093093…"
            ],
            "application/vnd.jupyter.widget-view+json": {
              "version_major": 2,
              "version_minor": 0,
              "model_id": "c2d3c314d8024f5ab728d5ec1a87f56c"
            }
          },
          "metadata": {}
        },
        {
          "output_type": "display_data",
          "data": {
            "text/plain": [
              "<IPython.core.display.HTML object>"
            ],
            "text/html": [
              "<style>\n",
              "    table.wandb td:nth-child(1) { padding: 0 10px; text-align: left ; width: auto;} td:nth-child(2) {text-align: left ; width: 100%}\n",
              "    .wandb-row { display: flex; flex-direction: row; flex-wrap: wrap; justify-content: flex-start; width: 100% }\n",
              "    .wandb-col { display: flex; flex-direction: column; flex-basis: 100%; flex: 1; padding: 10px; }\n",
              "    </style>\n",
              "<div class=\"wandb-row\"><div class=\"wandb-col\"><h3>Run history:</h3><br/><table class=\"wandb\"><tr><td>test/test_accuracy</td><td>▁▃▃▄▅▆▆▆▇█▆▇███</td></tr><tr><td>test/test_loss</td><td>█▅▃▃▃▃▂▂▁▃▄▂▂▁▃</td></tr><tr><td>train/train_loss</td><td>▅▄▅▄▃▃▃▆▅▆▂▁▆▆▂▃▃▆▅█▅▃▄▅▁▃▂▂▂▁▆▂▃▅▄▂▄▆▄▃</td></tr></table><br/></div><div class=\"wandb-col\"><h3>Run summary:</h3><br/><table class=\"wandb\"><tr><td>test/test_accuracy</td><td>0.3521</td></tr><tr><td>test/test_loss</td><td>1.62267</td></tr><tr><td>train/train_loss</td><td>2.10065</td></tr></table><br/></div></div>"
            ]
          },
          "metadata": {}
        },
        {
          "output_type": "display_data",
          "data": {
            "text/plain": [
              "<IPython.core.display.HTML object>"
            ],
            "text/html": [
              " View run <strong style=\"color:#cdcd00\">golden-pyramid-2</strong> at: <a href='https://wandb.ai/yoavshapira1-team/Ex1_Q3/runs/zixb63xo' target=\"_blank\">https://wandb.ai/yoavshapira1-team/Ex1_Q3/runs/zixb63xo</a><br/>Synced 5 W&B file(s), 0 media file(s), 0 artifact file(s) and 0 other file(s)"
            ]
          },
          "metadata": {}
        },
        {
          "output_type": "display_data",
          "data": {
            "text/plain": [
              "<IPython.core.display.HTML object>"
            ],
            "text/html": [
              "Find logs at: <code>./wandb/run-20230329_172603-zixb63xo/logs</code>"
            ]
          },
          "metadata": {}
        },
        {
          "output_type": "display_data",
          "data": {
            "text/plain": [
              "<IPython.core.display.HTML object>"
            ],
            "text/html": [
              "Tracking run with wandb version 0.14.0"
            ]
          },
          "metadata": {}
        },
        {
          "output_type": "display_data",
          "data": {
            "text/plain": [
              "<IPython.core.display.HTML object>"
            ],
            "text/html": [
              "Run data is saved locally in <code>/content/wandb/run-20230329_174310-dkmqvebb</code>"
            ]
          },
          "metadata": {}
        },
        {
          "output_type": "display_data",
          "data": {
            "text/plain": [
              "<IPython.core.display.HTML object>"
            ],
            "text/html": [
              "Syncing run <strong><a href='https://wandb.ai/yoavshapira1-team/Ex1_Q3/runs/dkmqvebb' target=\"_blank\">bumbling-water-3</a></strong> to <a href='https://wandb.ai/yoavshapira1-team/Ex1_Q3' target=\"_blank\">Weights & Biases</a> (<a href='https://wandb.me/run' target=\"_blank\">docs</a>)<br/>"
            ]
          },
          "metadata": {}
        },
        {
          "output_type": "display_data",
          "data": {
            "text/plain": [
              "<IPython.core.display.HTML object>"
            ],
            "text/html": [
              " View project at <a href='https://wandb.ai/yoavshapira1-team/Ex1_Q3' target=\"_blank\">https://wandb.ai/yoavshapira1-team/Ex1_Q3</a>"
            ]
          },
          "metadata": {}
        },
        {
          "output_type": "display_data",
          "data": {
            "text/plain": [
              "<IPython.core.display.HTML object>"
            ],
            "text/html": [
              " View run at <a href='https://wandb.ai/yoavshapira1-team/Ex1_Q3/runs/dkmqvebb' target=\"_blank\">https://wandb.ai/yoavshapira1-team/Ex1_Q3/runs/dkmqvebb</a>"
            ]
          },
          "metadata": {}
        },
        {
          "output_type": "stream",
          "name": "stdout",
          "text": [
            "[1,  2000] loss: 2.304\n",
            "[1,  4000] loss: 2.299\n",
            "[1,  6000] loss: 2.244\n",
            "[1,  8000] loss: 2.142\n",
            "[1, 10000] loss: 2.108\n",
            "[1, 12000] loss: 2.087\n",
            "Accuracy of the network on the 10000 test images: 27.0 %\n",
            "[2,  2000] loss: 2.606\n",
            "[2,  4000] loss: 2.066\n",
            "[2,  6000] loss: 2.055\n",
            "[2,  8000] loss: 2.049\n",
            "[2, 10000] loss: 2.034\n",
            "[2, 12000] loss: 2.038\n",
            "Accuracy of the network on the 10000 test images: 29.0 %\n",
            "[3,  2000] loss: 2.541\n",
            "[3,  4000] loss: 2.028\n",
            "[3,  6000] loss: 2.021\n",
            "[3,  8000] loss: 2.013\n",
            "[3, 10000] loss: 2.005\n",
            "[3, 12000] loss: 1.990\n",
            "Accuracy of the network on the 10000 test images: 29.0 %\n",
            "[4,  2000] loss: 2.497\n",
            "[4,  4000] loss: 1.990\n",
            "[4,  6000] loss: 2.002\n",
            "[4,  8000] loss: 1.989\n",
            "[4, 10000] loss: 1.968\n",
            "[4, 12000] loss: 1.984\n",
            "Accuracy of the network on the 10000 test images: 32.0 %\n",
            "[5,  2000] loss: 2.460\n",
            "[5,  4000] loss: 1.957\n",
            "[5,  6000] loss: 1.978\n",
            "[5,  8000] loss: 1.964\n",
            "[5, 10000] loss: 1.967\n",
            "[5, 12000] loss: 1.957\n",
            "Accuracy of the network on the 10000 test images: 32.0 %\n",
            "[6,  2000] loss: 2.425\n",
            "[6,  4000] loss: 1.946\n",
            "[6,  6000] loss: 1.940\n",
            "[6,  8000] loss: 1.953\n",
            "[6, 10000] loss: 1.939\n",
            "[6, 12000] loss: 1.933\n",
            "Accuracy of the network on the 10000 test images: 33.0 %\n",
            "[7,  2000] loss: 2.398\n",
            "[7,  4000] loss: 1.922\n",
            "[7,  6000] loss: 1.924\n",
            "[7,  8000] loss: 1.916\n",
            "[7, 10000] loss: 1.914\n",
            "[7, 12000] loss: 1.925\n",
            "Accuracy of the network on the 10000 test images: 33.0 %\n",
            "[8,  2000] loss: 2.384\n",
            "[8,  4000] loss: 1.909\n",
            "[8,  6000] loss: 1.903\n",
            "[8,  8000] loss: 1.889\n",
            "[8, 10000] loss: 1.892\n",
            "[8, 12000] loss: 1.900\n",
            "Accuracy of the network on the 10000 test images: 33.0 %\n",
            "[9,  2000] loss: 2.370\n",
            "[9,  4000] loss: 1.871\n",
            "[9,  6000] loss: 1.879\n",
            "[9,  8000] loss: 1.888\n",
            "[9, 10000] loss: 1.888\n",
            "[9, 12000] loss: 1.886\n",
            "Accuracy of the network on the 10000 test images: 33.0 %\n",
            "[10,  2000] loss: 2.340\n",
            "[10,  4000] loss: 1.876\n",
            "[10,  6000] loss: 1.869\n",
            "[10,  8000] loss: 1.865\n",
            "[10, 10000] loss: 1.856\n",
            "[10, 12000] loss: 1.878\n",
            "Accuracy of the network on the 10000 test images: 34.0 %\n",
            "[11,  2000] loss: 2.337\n",
            "[11,  4000] loss: 1.850\n",
            "[11,  6000] loss: 1.848\n",
            "[11,  8000] loss: 1.853\n",
            "[11, 10000] loss: 1.851\n",
            "[11, 12000] loss: 1.865\n",
            "Accuracy of the network on the 10000 test images: 35.0 %\n",
            "[12,  2000] loss: 2.313\n",
            "[12,  4000] loss: 1.852\n",
            "[12,  6000] loss: 1.847\n",
            "[12,  8000] loss: 1.825\n",
            "[12, 10000] loss: 1.836\n",
            "[12, 12000] loss: 1.850\n",
            "Accuracy of the network on the 10000 test images: 35.0 %\n",
            "[13,  2000] loss: 2.288\n",
            "[13,  4000] loss: 1.844\n",
            "[13,  6000] loss: 1.846\n",
            "[13,  8000] loss: 1.827\n",
            "[13, 10000] loss: 1.834\n",
            "[13, 12000] loss: 1.825\n",
            "Accuracy of the network on the 10000 test images: 35.0 %\n",
            "[14,  2000] loss: 2.281\n",
            "[14,  4000] loss: 1.830\n",
            "[14,  6000] loss: 1.825\n",
            "[14,  8000] loss: 1.819\n",
            "[14, 10000] loss: 1.829\n",
            "[14, 12000] loss: 1.812\n",
            "Accuracy of the network on the 10000 test images: 35.0 %\n",
            "[15,  2000] loss: 2.257\n",
            "[15,  4000] loss: 1.828\n",
            "[15,  6000] loss: 1.809\n",
            "[15,  8000] loss: 1.808\n",
            "[15, 10000] loss: 1.814\n",
            "[15, 12000] loss: 1.823\n",
            "Accuracy of the network on the 10000 test images: 36.0 %\n",
            "Finished Training\n"
          ]
        },
        {
          "output_type": "display_data",
          "data": {
            "text/plain": [
              "<IPython.core.display.HTML object>"
            ],
            "text/html": [
              "Waiting for W&B process to finish... <strong style=\"color:green\">(success).</strong>"
            ]
          },
          "metadata": {}
        },
        {
          "output_type": "display_data",
          "data": {
            "text/plain": [
              "<IPython.core.display.HTML object>"
            ],
            "text/html": [
              "<style>\n",
              "    table.wandb td:nth-child(1) { padding: 0 10px; text-align: left ; width: auto;} td:nth-child(2) {text-align: left ; width: 100%}\n",
              "    .wandb-row { display: flex; flex-direction: row; flex-wrap: wrap; justify-content: flex-start; width: 100% }\n",
              "    .wandb-col { display: flex; flex-direction: column; flex-basis: 100%; flex: 1; padding: 10px; }\n",
              "    </style>\n",
              "<div class=\"wandb-row\"><div class=\"wandb-col\"><h3>Run history:</h3><br/><table class=\"wandb\"><tr><td>test/test_accuracy</td><td>▁▂▃▅▅▆▅▆▆▇▇▇▇██</td></tr><tr><td>test/test_loss</td><td>█▂▁▅▂▃▂▄▅▄▅▄▃▄▄</td></tr><tr><td>train/train_loss</td><td>▆▅█▅▆▃▆▅▂▆▆▆▄▆▃▇▃▆▃▄▃▄▃▅▆▃▅▄▁▄▃▃▃▃▃▁█▄▁▁</td></tr></table><br/></div><div class=\"wandb-col\"><h3>Run summary:</h3><br/><table class=\"wandb\"><tr><td>test/test_accuracy</td><td>0.3628</td></tr><tr><td>test/test_loss</td><td>1.50665</td></tr><tr><td>train/train_loss</td><td>1.47612</td></tr></table><br/></div></div>"
            ]
          },
          "metadata": {}
        },
        {
          "output_type": "display_data",
          "data": {
            "text/plain": [
              "<IPython.core.display.HTML object>"
            ],
            "text/html": [
              " View run <strong style=\"color:#cdcd00\">bumbling-water-3</strong> at: <a href='https://wandb.ai/yoavshapira1-team/Ex1_Q3/runs/dkmqvebb' target=\"_blank\">https://wandb.ai/yoavshapira1-team/Ex1_Q3/runs/dkmqvebb</a><br/>Synced 5 W&B file(s), 0 media file(s), 0 artifact file(s) and 0 other file(s)"
            ]
          },
          "metadata": {}
        },
        {
          "output_type": "display_data",
          "data": {
            "text/plain": [
              "<IPython.core.display.HTML object>"
            ],
            "text/html": [
              "Find logs at: <code>./wandb/run-20230329_174310-dkmqvebb/logs</code>"
            ]
          },
          "metadata": {}
        },
        {
          "output_type": "display_data",
          "data": {
            "text/plain": [
              "<IPython.core.display.HTML object>"
            ],
            "text/html": [
              "Tracking run with wandb version 0.14.0"
            ]
          },
          "metadata": {}
        },
        {
          "output_type": "display_data",
          "data": {
            "text/plain": [
              "<IPython.core.display.HTML object>"
            ],
            "text/html": [
              "Run data is saved locally in <code>/content/wandb/run-20230329_180008-a30nxa3u</code>"
            ]
          },
          "metadata": {}
        },
        {
          "output_type": "display_data",
          "data": {
            "text/plain": [
              "<IPython.core.display.HTML object>"
            ],
            "text/html": [
              "Syncing run <strong><a href='https://wandb.ai/yoavshapira1-team/Ex1_Q3/runs/a30nxa3u' target=\"_blank\">hearty-sky-4</a></strong> to <a href='https://wandb.ai/yoavshapira1-team/Ex1_Q3' target=\"_blank\">Weights & Biases</a> (<a href='https://wandb.me/run' target=\"_blank\">docs</a>)<br/>"
            ]
          },
          "metadata": {}
        },
        {
          "output_type": "display_data",
          "data": {
            "text/plain": [
              "<IPython.core.display.HTML object>"
            ],
            "text/html": [
              " View project at <a href='https://wandb.ai/yoavshapira1-team/Ex1_Q3' target=\"_blank\">https://wandb.ai/yoavshapira1-team/Ex1_Q3</a>"
            ]
          },
          "metadata": {}
        },
        {
          "output_type": "display_data",
          "data": {
            "text/plain": [
              "<IPython.core.display.HTML object>"
            ],
            "text/html": [
              " View run at <a href='https://wandb.ai/yoavshapira1-team/Ex1_Q3/runs/a30nxa3u' target=\"_blank\">https://wandb.ai/yoavshapira1-team/Ex1_Q3/runs/a30nxa3u</a>"
            ]
          },
          "metadata": {}
        },
        {
          "output_type": "stream",
          "name": "stdout",
          "text": [
            "[1,  2000] loss: 1.958\n",
            "[1,  4000] loss: 1.712\n",
            "[1,  6000] loss: 1.600\n",
            "[1,  8000] loss: 1.535\n",
            "[1, 10000] loss: 1.469\n",
            "[1, 12000] loss: 1.426\n",
            "Accuracy of the network on the 10000 test images: 51.0 %\n",
            "[2,  2000] loss: 1.718\n",
            "[2,  4000] loss: 1.367\n",
            "[2,  6000] loss: 1.359\n",
            "[2,  8000] loss: 1.352\n",
            "[2, 10000] loss: 1.328\n",
            "[2, 12000] loss: 1.333\n",
            "Accuracy of the network on the 10000 test images: 53.0 %\n",
            "[3,  2000] loss: 1.612\n",
            "[3,  4000] loss: 1.286\n",
            "[3,  6000] loss: 1.297\n",
            "[3,  8000] loss: 1.296\n",
            "[3, 10000] loss: 1.267\n",
            "[3, 12000] loss: 1.288\n",
            "Accuracy of the network on the 10000 test images: 53.0 %\n",
            "[4,  2000] loss: 1.554\n",
            "[4,  4000] loss: 1.226\n",
            "[4,  6000] loss: 1.245\n",
            "[4,  8000] loss: 1.252\n",
            "[4, 10000] loss: 1.237\n",
            "[4, 12000] loss: 1.220\n",
            "Accuracy of the network on the 10000 test images: 55.0 %\n",
            "[5,  2000] loss: 1.493\n",
            "[5,  4000] loss: 1.200\n",
            "[5,  6000] loss: 1.192\n",
            "[5,  8000] loss: 1.202\n",
            "[5, 10000] loss: 1.199\n",
            "[5, 12000] loss: 1.197\n",
            "Accuracy of the network on the 10000 test images: 56.0 %\n",
            "[6,  2000] loss: 1.433\n",
            "[6,  4000] loss: 1.142\n",
            "[6,  6000] loss: 1.167\n",
            "[6,  8000] loss: 1.171\n",
            "[6, 10000] loss: 1.174\n",
            "[6, 12000] loss: 1.163\n",
            "Accuracy of the network on the 10000 test images: 56.0 %\n",
            "[7,  2000] loss: 1.405\n",
            "[7,  4000] loss: 1.129\n",
            "[7,  6000] loss: 1.110\n",
            "[7,  8000] loss: 1.139\n",
            "[7, 10000] loss: 1.126\n",
            "[7, 12000] loss: 1.155\n",
            "Accuracy of the network on the 10000 test images: 57.0 %\n",
            "[8,  2000] loss: 1.384\n",
            "[8,  4000] loss: 1.096\n",
            "[8,  6000] loss: 1.089\n",
            "[8,  8000] loss: 1.106\n",
            "[8, 10000] loss: 1.099\n",
            "[8, 12000] loss: 1.112\n",
            "Accuracy of the network on the 10000 test images: 58.0 %\n",
            "[9,  2000] loss: 1.328\n",
            "[9,  4000] loss: 1.094\n",
            "[9,  6000] loss: 1.051\n",
            "[9,  8000] loss: 1.086\n",
            "[9, 10000] loss: 1.094\n",
            "[9, 12000] loss: 1.092\n",
            "Accuracy of the network on the 10000 test images: 57.0 %\n",
            "[10,  2000] loss: 1.324\n",
            "[10,  4000] loss: 1.036\n",
            "[10,  6000] loss: 1.042\n",
            "[10,  8000] loss: 1.064\n",
            "[10, 10000] loss: 1.084\n",
            "[10, 12000] loss: 1.074\n",
            "Accuracy of the network on the 10000 test images: 57.0 %\n",
            "[11,  2000] loss: 1.287\n",
            "[11,  4000] loss: 1.046\n",
            "[11,  6000] loss: 1.020\n",
            "[11,  8000] loss: 1.064\n",
            "[11, 10000] loss: 1.039\n",
            "[11, 12000] loss: 1.035\n",
            "Accuracy of the network on the 10000 test images: 57.0 %\n",
            "[12,  2000] loss: 1.260\n",
            "[12,  4000] loss: 1.022\n",
            "[12,  6000] loss: 1.011\n",
            "[12,  8000] loss: 1.026\n",
            "[12, 10000] loss: 1.015\n",
            "[12, 12000] loss: 1.042\n",
            "Accuracy of the network on the 10000 test images: 58.0 %\n",
            "[13,  2000] loss: 1.227\n",
            "[13,  4000] loss: 0.985\n",
            "[13,  6000] loss: 1.004\n",
            "[13,  8000] loss: 1.014\n",
            "[13, 10000] loss: 0.997\n",
            "[13, 12000] loss: 1.018\n",
            "Accuracy of the network on the 10000 test images: 58.0 %\n",
            "[14,  2000] loss: 1.236\n",
            "[14,  4000] loss: 0.981\n",
            "[14,  6000] loss: 0.960\n",
            "[14,  8000] loss: 0.978\n",
            "[14, 10000] loss: 0.993\n",
            "[14, 12000] loss: 1.014\n",
            "Accuracy of the network on the 10000 test images: 58.0 %\n",
            "[15,  2000] loss: 1.206\n",
            "[15,  4000] loss: 0.951\n",
            "[15,  6000] loss: 0.960\n",
            "[15,  8000] loss: 0.964\n",
            "[15, 10000] loss: 0.976\n",
            "[15, 12000] loss: 0.983\n",
            "Accuracy of the network on the 10000 test images: 58.0 %\n",
            "Finished Training\n"
          ]
        },
        {
          "output_type": "display_data",
          "data": {
            "text/plain": [
              "<IPython.core.display.HTML object>"
            ],
            "text/html": [
              "Waiting for W&B process to finish... <strong style=\"color:green\">(success).</strong>"
            ]
          },
          "metadata": {}
        },
        {
          "output_type": "display_data",
          "data": {
            "text/plain": [
              "VBox(children=(Label(value='0.001 MB of 0.001 MB uploaded (0.000 MB deduped)\\r'), FloatProgress(value=1.0, max…"
            ],
            "application/vnd.jupyter.widget-view+json": {
              "version_major": 2,
              "version_minor": 0,
              "model_id": "cc5f42fcd732428aa4ceb2eb51a5effb"
            }
          },
          "metadata": {}
        },
        {
          "output_type": "display_data",
          "data": {
            "text/plain": [
              "<IPython.core.display.HTML object>"
            ],
            "text/html": [
              "<style>\n",
              "    table.wandb td:nth-child(1) { padding: 0 10px; text-align: left ; width: auto;} td:nth-child(2) {text-align: left ; width: 100%}\n",
              "    .wandb-row { display: flex; flex-direction: row; flex-wrap: wrap; justify-content: flex-start; width: 100% }\n",
              "    .wandb-col { display: flex; flex-direction: column; flex-basis: 100%; flex: 1; padding: 10px; }\n",
              "    </style>\n",
              "<div class=\"wandb-row\"><div class=\"wandb-col\"><h3>Run history:</h3><br/><table class=\"wandb\"><tr><td>test/test_accuracy</td><td>▁▃▃▅▆▆▇█▇▇▇▇███</td></tr><tr><td>test/test_loss</td><td>█▄▁▃▅▅▄▄▅▄▆▇▄▆█</td></tr><tr><td>train/train_loss</td><td>▅▅█▄▄▂▁▃▂▄▄▂▃▄▄▂▂▃▄▁▃▁▃▅▂▄▄▁▁▂▂▂▂▅▃▃▃▃▅▂</td></tr></table><br/></div><div class=\"wandb-col\"><h3>Run summary:</h3><br/><table class=\"wandb\"><tr><td>test/test_accuracy</td><td>0.5866</td></tr><tr><td>test/test_loss</td><td>1.34758</td></tr><tr><td>train/train_loss</td><td>0.91637</td></tr></table><br/></div></div>"
            ]
          },
          "metadata": {}
        },
        {
          "output_type": "display_data",
          "data": {
            "text/plain": [
              "<IPython.core.display.HTML object>"
            ],
            "text/html": [
              " View run <strong style=\"color:#cdcd00\">hearty-sky-4</strong> at: <a href='https://wandb.ai/yoavshapira1-team/Ex1_Q3/runs/a30nxa3u' target=\"_blank\">https://wandb.ai/yoavshapira1-team/Ex1_Q3/runs/a30nxa3u</a><br/>Synced 5 W&B file(s), 0 media file(s), 0 artifact file(s) and 0 other file(s)"
            ]
          },
          "metadata": {}
        },
        {
          "output_type": "display_data",
          "data": {
            "text/plain": [
              "<IPython.core.display.HTML object>"
            ],
            "text/html": [
              "Find logs at: <code>./wandb/run-20230329_180008-a30nxa3u/logs</code>"
            ]
          },
          "metadata": {}
        },
        {
          "output_type": "display_data",
          "data": {
            "text/plain": [
              "<IPython.core.display.HTML object>"
            ],
            "text/html": [
              "Tracking run with wandb version 0.14.0"
            ]
          },
          "metadata": {}
        },
        {
          "output_type": "display_data",
          "data": {
            "text/plain": [
              "<IPython.core.display.HTML object>"
            ],
            "text/html": [
              "Run data is saved locally in <code>/content/wandb/run-20230329_181653-fxvn5hbu</code>"
            ]
          },
          "metadata": {}
        },
        {
          "output_type": "display_data",
          "data": {
            "text/plain": [
              "<IPython.core.display.HTML object>"
            ],
            "text/html": [
              "Syncing run <strong><a href='https://wandb.ai/yoavshapira1-team/Ex1_Q3/runs/fxvn5hbu' target=\"_blank\">soft-universe-5</a></strong> to <a href='https://wandb.ai/yoavshapira1-team/Ex1_Q3' target=\"_blank\">Weights & Biases</a> (<a href='https://wandb.me/run' target=\"_blank\">docs</a>)<br/>"
            ]
          },
          "metadata": {}
        },
        {
          "output_type": "display_data",
          "data": {
            "text/plain": [
              "<IPython.core.display.HTML object>"
            ],
            "text/html": [
              " View project at <a href='https://wandb.ai/yoavshapira1-team/Ex1_Q3' target=\"_blank\">https://wandb.ai/yoavshapira1-team/Ex1_Q3</a>"
            ]
          },
          "metadata": {}
        },
        {
          "output_type": "display_data",
          "data": {
            "text/plain": [
              "<IPython.core.display.HTML object>"
            ],
            "text/html": [
              " View run at <a href='https://wandb.ai/yoavshapira1-team/Ex1_Q3/runs/fxvn5hbu' target=\"_blank\">https://wandb.ai/yoavshapira1-team/Ex1_Q3/runs/fxvn5hbu</a>"
            ]
          },
          "metadata": {}
        },
        {
          "output_type": "stream",
          "name": "stdout",
          "text": [
            "[1,  2000] loss: 1.904\n",
            "[1,  4000] loss: 1.712\n",
            "[1,  6000] loss: 1.602\n",
            "[1,  8000] loss: 1.512\n",
            "[1, 10000] loss: 1.457\n",
            "[1, 12000] loss: 1.411\n",
            "Accuracy of the network on the 10000 test images: 50.0 %\n",
            "[2,  2000] loss: 1.704\n",
            "[2,  4000] loss: 1.344\n",
            "[2,  6000] loss: 1.333\n",
            "[2,  8000] loss: 1.295\n",
            "[2, 10000] loss: 1.309\n",
            "[2, 12000] loss: 1.284\n",
            "Accuracy of the network on the 10000 test images: 54.0 %\n",
            "[3,  2000] loss: 1.569\n",
            "[3,  4000] loss: 1.230\n",
            "[3,  6000] loss: 1.210\n",
            "[3,  8000] loss: 1.223\n",
            "[3, 10000] loss: 1.196\n",
            "[3, 12000] loss: 1.194\n",
            "Accuracy of the network on the 10000 test images: 56.0 %\n",
            "[4,  2000] loss: 1.423\n",
            "[4,  4000] loss: 1.146\n",
            "[4,  6000] loss: 1.131\n",
            "[4,  8000] loss: 1.126\n",
            "[4, 10000] loss: 1.133\n",
            "[4, 12000] loss: 1.131\n",
            "Accuracy of the network on the 10000 test images: 58.0 %\n",
            "[5,  2000] loss: 1.342\n",
            "[5,  4000] loss: 1.057\n",
            "[5,  6000] loss: 1.067\n",
            "[5,  8000] loss: 1.078\n",
            "[5, 10000] loss: 1.041\n",
            "[5, 12000] loss: 1.055\n",
            "Accuracy of the network on the 10000 test images: 60.0 %\n",
            "[6,  2000] loss: 1.283\n",
            "[6,  4000] loss: 1.002\n",
            "[6,  6000] loss: 1.000\n",
            "[6,  8000] loss: 1.020\n",
            "[6, 10000] loss: 0.994\n",
            "[6, 12000] loss: 1.013\n",
            "Accuracy of the network on the 10000 test images: 61.0 %\n",
            "[7,  2000] loss: 1.217\n",
            "[7,  4000] loss: 0.962\n",
            "[7,  6000] loss: 0.971\n",
            "[7,  8000] loss: 0.951\n",
            "[7, 10000] loss: 0.948\n",
            "[7, 12000] loss: 0.981\n",
            "Accuracy of the network on the 10000 test images: 62.0 %\n",
            "[8,  2000] loss: 1.146\n",
            "[8,  4000] loss: 0.926\n",
            "[8,  6000] loss: 0.921\n",
            "[8,  8000] loss: 0.931\n",
            "[8, 10000] loss: 0.941\n",
            "[8, 12000] loss: 0.936\n",
            "Accuracy of the network on the 10000 test images: 61.0 %\n",
            "[9,  2000] loss: 1.133\n",
            "[9,  4000] loss: 0.891\n",
            "[9,  6000] loss: 0.901\n",
            "[9,  8000] loss: 0.881\n",
            "[9, 10000] loss: 0.916\n",
            "[9, 12000] loss: 0.892\n",
            "Accuracy of the network on the 10000 test images: 62.0 %\n",
            "[10,  2000] loss: 1.096\n",
            "[10,  4000] loss: 0.866\n",
            "[10,  6000] loss: 0.864\n",
            "[10,  8000] loss: 0.870\n",
            "[10, 10000] loss: 0.879\n",
            "[10, 12000] loss: 0.889\n",
            "Accuracy of the network on the 10000 test images: 62.0 %\n",
            "[11,  2000] loss: 1.050\n",
            "[11,  4000] loss: 0.821\n",
            "[11,  6000] loss: 0.821\n",
            "[11,  8000] loss: 0.883\n",
            "[11, 10000] loss: 0.854\n",
            "[11, 12000] loss: 0.852\n",
            "Accuracy of the network on the 10000 test images: 63.0 %\n",
            "[12,  2000] loss: 1.017\n",
            "[12,  4000] loss: 0.814\n",
            "[12,  6000] loss: 0.801\n",
            "[12,  8000] loss: 0.815\n",
            "[12, 10000] loss: 0.835\n",
            "[12, 12000] loss: 0.852\n",
            "Accuracy of the network on the 10000 test images: 63.0 %\n",
            "[13,  2000] loss: 0.973\n",
            "[13,  4000] loss: 0.790\n",
            "[13,  6000] loss: 0.798\n",
            "[13,  8000] loss: 0.803\n",
            "[13, 10000] loss: 0.816\n",
            "[13, 12000] loss: 0.814\n",
            "Accuracy of the network on the 10000 test images: 63.0 %\n",
            "[14,  2000] loss: 0.959\n",
            "[14,  4000] loss: 0.766\n",
            "[14,  6000] loss: 0.755\n",
            "[14,  8000] loss: 0.788\n",
            "[14, 10000] loss: 0.796\n",
            "[14, 12000] loss: 0.805\n",
            "Accuracy of the network on the 10000 test images: 63.0 %\n",
            "[15,  2000] loss: 0.926\n",
            "[15,  4000] loss: 0.750\n",
            "[15,  6000] loss: 0.767\n",
            "[15,  8000] loss: 0.754\n",
            "[15, 10000] loss: 0.765\n",
            "[15, 12000] loss: 0.769\n",
            "Accuracy of the network on the 10000 test images: 63.0 %\n",
            "Finished Training\n"
          ]
        },
        {
          "output_type": "display_data",
          "data": {
            "text/plain": [
              "<IPython.core.display.HTML object>"
            ],
            "text/html": [
              "Waiting for W&B process to finish... <strong style=\"color:green\">(success).</strong>"
            ]
          },
          "metadata": {}
        },
        {
          "output_type": "display_data",
          "data": {
            "text/plain": [
              "VBox(children=(Label(value='0.001 MB of 0.001 MB uploaded (0.000 MB deduped)\\r'), FloatProgress(value=1.0, max…"
            ],
            "application/vnd.jupyter.widget-view+json": {
              "version_major": 2,
              "version_minor": 0,
              "model_id": "64d790b8b45347db96c99f8eb4003893"
            }
          },
          "metadata": {}
        },
        {
          "output_type": "display_data",
          "data": {
            "text/plain": [
              "<IPython.core.display.HTML object>"
            ],
            "text/html": [
              "<style>\n",
              "    table.wandb td:nth-child(1) { padding: 0 10px; text-align: left ; width: auto;} td:nth-child(2) {text-align: left ; width: 100%}\n",
              "    .wandb-row { display: flex; flex-direction: row; flex-wrap: wrap; justify-content: flex-start; width: 100% }\n",
              "    .wandb-col { display: flex; flex-direction: column; flex-basis: 100%; flex: 1; padding: 10px; }\n",
              "    </style>\n",
              "<div class=\"wandb-row\"><div class=\"wandb-col\"><h3>Run history:</h3><br/><table class=\"wandb\"><tr><td>test/test_accuracy</td><td>▁▃▄▅▆▇▇▇▇▇█████</td></tr><tr><td>test/test_loss</td><td>▆▄█▄▅▃▅▅▁▂▃▅▄▃▄</td></tr><tr><td>train/train_loss</td><td>█▆▆▆▃▄▄▃▂▂▆▁▃▄▂▄▃▂▂▁▃▂▅▅▃▂▂▄▂▄▂▃▁▂▂▃▃▃▇▂</td></tr></table><br/></div><div class=\"wandb-col\"><h3>Run summary:</h3><br/><table class=\"wandb\"><tr><td>test/test_accuracy</td><td>0.6315</td></tr><tr><td>test/test_loss</td><td>0.83671</td></tr><tr><td>train/train_loss</td><td>0.93051</td></tr></table><br/></div></div>"
            ]
          },
          "metadata": {}
        },
        {
          "output_type": "display_data",
          "data": {
            "text/plain": [
              "<IPython.core.display.HTML object>"
            ],
            "text/html": [
              " View run <strong style=\"color:#cdcd00\">soft-universe-5</strong> at: <a href='https://wandb.ai/yoavshapira1-team/Ex1_Q3/runs/fxvn5hbu' target=\"_blank\">https://wandb.ai/yoavshapira1-team/Ex1_Q3/runs/fxvn5hbu</a><br/>Synced 5 W&B file(s), 0 media file(s), 0 artifact file(s) and 0 other file(s)"
            ]
          },
          "metadata": {}
        },
        {
          "output_type": "display_data",
          "data": {
            "text/plain": [
              "<IPython.core.display.HTML object>"
            ],
            "text/html": [
              "Find logs at: <code>./wandb/run-20230329_181653-fxvn5hbu/logs</code>"
            ]
          },
          "metadata": {}
        }
      ]
    },
    {
      "cell_type": "code",
      "source": [],
      "metadata": {
        "id": "gKJD8fIAWx1p"
      },
      "execution_count": null,
      "outputs": []
    }
  ]
}